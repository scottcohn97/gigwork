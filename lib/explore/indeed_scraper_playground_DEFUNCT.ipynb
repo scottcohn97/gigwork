{
 "cells": [
  {
   "cell_type": "markdown",
   "metadata": {
    "id": "FFVBVHp3aZMA"
   },
   "source": [
    "# Indeed Scraper"
   ]
  },
  {
   "cell_type": "markdown",
   "metadata": {
    "id": "6oTlFXXyadGM"
   },
   "source": [
    "Scrape Indeed for job postings"
   ]
  },
  {
   "cell_type": "code",
   "execution_count": null,
   "metadata": {
    "colab": {
     "base_uri": "https://localhost:8080/"
    },
    "executionInfo": {
     "elapsed": 23108,
     "status": "ok",
     "timestamp": 1611962316747,
     "user": {
      "displayName": "Scott Cohn",
      "photoUrl": "https://lh3.googleusercontent.com/a-/AOh14Gg_9Bi7ggcQeIM-8d9m7lC6Gb5UHiYLddN2ai-2=s64",
      "userId": "09916432820167227700"
     },
     "user_tz": 360
    },
    "id": "KoISWHxUcJLm",
    "outputId": "0809d982-604d-4118-84b0-8de8f9496ca0"
   },
   "outputs": [
    {
     "name": "stdout",
     "output_type": "stream",
     "text": [
      "Mounted at /content/drive\n"
     ]
    }
   ],
   "source": [
    "from google.colab import drive\n",
    "drive.mount('/content/drive')"
   ]
  },
  {
   "cell_type": "code",
   "execution_count": null,
   "metadata": {
    "id": "xA8ilQ_nbD9K"
   },
   "outputs": [],
   "source": [
    "import pandas as pd\n",
    "import numpy as np\n",
    "from plotnine import *"
   ]
  },
  {
   "cell_type": "markdown",
   "metadata": {
    "id": "ijYlVxlbZ-hU"
   },
   "source": [
    "## Version 1"
   ]
  },
  {
   "cell_type": "code",
   "execution_count": null,
   "metadata": {
    "id": "2w9NigqhaXfX"
   },
   "outputs": [],
   "source": [
    "!pip install selenium\n",
    "!apt-get update # to update ubuntu to correctly run apt install\n",
    "!apt install chromium-chromedriver\n",
    "!cp /usr/lib/chromium-browser/chromedriver /usr/bin\n",
    "import sys\n",
    "sys.path.insert(0,'/usr/lib/chromium-browser/chromedriver')\n",
    "\n",
    "from selenium import webdriver\n",
    "from selenium.webdriver.common.by import By\n",
    "from selenium import webdriver\n",
    "from selenium.webdriver.common.keys import Keys\n",
    "from selenium.webdriver.support.ui import WebDriverWait\n",
    "from selenium.webdriver.support import expected_conditions as EC\n",
    "\n",
    "chrome_options = webdriver.ChromeOptions()\n",
    "chrome_options.add_argument('--headless')\n",
    "chrome_options.add_argument('--no-sandbox')\n",
    "chrome_options.add_argument('--disable-dev-shm-usage')\n",
    "driver = webdriver.Chrome('chromedriver',chrome_options=chrome_options)\n",
    "# wd.get(\"https://www.webite-url.com\")"
   ]
  },
  {
   "cell_type": "code",
   "execution_count": null,
   "metadata": {
    "id": "Ksi0zjTkPciT"
   },
   "outputs": [],
   "source": [
    "driver.get('https://indeed.com')"
   ]
  },
  {
   "cell_type": "code",
   "execution_count": null,
   "metadata": {
    "id": "uH8NzUbkQfV5"
   },
   "outputs": [],
   "source": [
    "# enter search details here\n",
    "\n",
    "# search grocery clerk\n",
    "search_job = driver.find_element_by_xpath(\"//input[@id='text-input-what']\") \n",
    "search_job.send_keys(['grocery clerk'])\n",
    "\n",
    "search_loc = driver.find_element_by_xpath(\"//input[@id='text-input-where']\")\n",
    "search_loc.send_keys(['Los Angeles, CA'])\n",
    "\n",
    "# find and click \"Find Jobs\" button\n",
    "initial_search_button = driver.find_element_by_xpath(\"//form[@id='whatWhereFormId']/div[3]\")\n",
    "initial_search_button.click()"
   ]
  },
  {
   "cell_type": "code",
   "execution_count": null,
   "metadata": {
    "id": "GZv2sXFQUpoC"
   },
   "outputs": [],
   "source": [
    "#let the driver wait 3 seconds to locate the element before exiting out\n",
    "driver.implicitly_wait(3) "
   ]
  },
  {
   "cell_type": "code",
   "execution_count": null,
   "metadata": {
    "id": "g79JQMN5VHm4"
   },
   "outputs": [],
   "source": [
    "titles=[]\n",
    "companies=[]\n",
    "locations=[]\n",
    "links =[]\n",
    "reviews=[]\n",
    "salaries = []\n",
    "descriptions=[]\n",
    "dateposted=[]"
   ]
  },
  {
   "cell_type": "markdown",
   "metadata": {
    "id": "kHPolkixbc7D"
   },
   "source": [
    "This is the part to fix !! "
   ]
  },
  {
   "cell_type": "code",
   "execution_count": null,
   "metadata": {
    "colab": {
     "base_uri": "https://localhost:8080/"
    },
    "executionInfo": {
     "elapsed": 6578,
     "status": "ok",
     "timestamp": 1611955630258,
     "user": {
      "displayName": "Scott Cohn",
      "photoUrl": "https://lh3.googleusercontent.com/a-/AOh14Gg_9Bi7ggcQeIM-8d9m7lC6Gb5UHiYLddN2ai-2=s64",
      "userId": "09916432820167227700"
     },
     "user_tz": 360
    },
    "id": "FNN6UgM-aw4p",
    "outputId": "bf226116-21e8-4932-f08b-b0c763ee9af1"
   },
   "outputs": [
    {
     "name": "stdout",
     "output_type": "stream",
     "text": [
      "Page: 2\n",
      "Page: 3\n"
     ]
    }
   ],
   "source": [
    "\n",
    "for i in range(0,2): #then 20\n",
    "    \n",
    "    job_card = driver.find_elements_by_xpath('//div[contains(@class,\"mosaic-provider-jobcards\")]')\n",
    "    \n",
    "    for job in job_card:\n",
    "       \n",
    "    #.  not all companies have review\n",
    "        try:\n",
    "            review = job.find_element_by_xpath('.//span[@class=\"ratingsContent\"]').text\n",
    "        except:\n",
    "            review = \"None\"\n",
    "        reviews.append(review)\n",
    "   #.   not all positions have salary\n",
    "        try:\n",
    "            salary = job.find_element_by_xpath('.//span[@class=\"salaryText\"]').text\n",
    "        except:\n",
    "            salary = \"None\"\n",
    "    #.  tells only to look at the element       \n",
    "        salaries.append(salary)\n",
    "        \n",
    "        try:\n",
    "            location = job.find_element_by_xpath('.//span[contains(@class,\"location\")]').text\n",
    "        except:\n",
    "            location = \"None\"\n",
    "    #.  tells only to look at the element       \n",
    "        locations.append(location)\n",
    "        \n",
    "        try:\n",
    "            title  = job.find_element_by_xpath('.//h2[@class=\"title\"]//a').text\n",
    "        except:\n",
    "            title = job.find_element_by_xpath('.//h2[@class=\"title\"]//a').get_attribute(name=\"title\")\n",
    "        titles.append(title)\n",
    "        links.append(job.find_element_by_xpath('.//h2[@class=\"title\"]//a').get_attribute(name=\"href\"))\n",
    "        companies.append(job.find_element_by_xpath('.//span[@class=\"company\"]').text)\n",
    "        \n",
    "    \n",
    "    #try:\n",
    "    #    next_page = driver.find_element_by_xpath(\"//span[@class='pn']\")\n",
    "        #driver.find_element_by_xpath('//a[@aria-label={}]//span[@class=\"pn\"]'.format(i+2))\n",
    "    #    next_page.click()\n",
    "\n",
    "    #except:\n",
    "    #    next_page = driver.find_element_by_xpath('//a[@aria-label=\"Next\"]//span[@class=\"pn\"]')\n",
    "    #    next_page.click()\n",
    "    #except:\n",
    "        #next_page = driver.find_element_by_xpath('//a[.//span[contains(text(),\"Next\")]]')\n",
    "        #next_page.click()\n",
    "        \n",
    "    \n",
    "    print(\"Page: {}\".format(str(i+2)))"
   ]
  },
  {
   "cell_type": "code",
   "execution_count": null,
   "metadata": {
    "id": "aV31t-v1a5DO"
   },
   "outputs": [],
   "source": [
    "# get job descriptions\n",
    "descriptions=[]\n",
    "for link in links:\n",
    "    \n",
    "    driver.get(link)\n",
    "    jd = driver.find_element_by_xpath('//div[@id=\"jobDescriptionText\"]').text\n",
    "    descriptions.append(jd)"
   ]
  },
  {
   "cell_type": "code",
   "execution_count": null,
   "metadata": {
    "id": "Y-afe5-ca_JL"
   },
   "outputs": [],
   "source": [
    "# put in a dataframe\n",
    "df_da=pd.DataFrame()\n",
    "df_da['Title']=titles\n",
    "df_da['Company']=companies\n",
    "df_da['Location']=\"Los Angeles, CA\"\n",
    "df_da['Link']=links\n",
    "df_da['Review']=reviews\n",
    "df_da['Salary']=salaries\n",
    "df_da['Description']=descriptions"
   ]
  },
  {
   "cell_type": "code",
   "execution_count": null,
   "metadata": {
    "colab": {
     "base_uri": "https://localhost:8080/"
    },
    "executionInfo": {
     "elapsed": 672,
     "status": "ok",
     "timestamp": 1611955837551,
     "user": {
      "displayName": "Scott Cohn",
      "photoUrl": "https://lh3.googleusercontent.com/a-/AOh14Gg_9Bi7ggcQeIM-8d9m7lC6Gb5UHiYLddN2ai-2=s64",
      "userId": "09916432820167227700"
     },
     "user_tz": 360
    },
    "id": "fQO-4G5IzAIB",
    "outputId": "9a2ecd69-17f8-4cbd-b6cc-9084502a30f5"
   },
   "outputs": [
    {
     "data": {
      "text/plain": [
       "[]"
      ]
     },
     "execution_count": 58,
     "metadata": {
      "tags": []
     },
     "output_type": "execute_result"
    }
   ],
   "source": [
    "titles"
   ]
  },
  {
   "cell_type": "code",
   "execution_count": null,
   "metadata": {
    "id": "znEFmW8wzCPA"
   },
   "outputs": [],
   "source": []
  },
  {
   "cell_type": "markdown",
   "metadata": {
    "id": "hv8Q-idM0Wwg"
   },
   "source": [
    "## Version 2"
   ]
  },
  {
   "cell_type": "code",
   "execution_count": null,
   "metadata": {
    "id": "3qjHzRFn0Xw-"
   },
   "outputs": [],
   "source": [
    "import urllib\n",
    "import requests\n",
    "from bs4 import BeautifulSoup\n",
    "import selenium\n",
    "from selenium import webdriver\n",
    "from selenium.webdriver.support.ui import WebDriverWait\n",
    "import pandas as pd\n",
    "import os"
   ]
  },
  {
   "cell_type": "code",
   "execution_count": null,
   "metadata": {
    "id": "-0-UWsxu07fI"
   },
   "outputs": [],
   "source": [
    "def find_jobs_from(website, job_title, location, desired_characs, filename=\"results.csv\"):    \n",
    "    \"\"\"\n",
    "    This function extracts all the desired characteristics of all new job postings\n",
    "    of the title and location specified and returns them in single file.\n",
    "    The arguments it takes are:\n",
    "        - Website: to specify which website to search (options: 'Indeed' or 'CWjobs')\n",
    "        - Job_title\n",
    "        - Location\n",
    "        - Desired_characs: this is a list of the job characteristics of interest,\n",
    "            from titles, companies, links and date_listed.\n",
    "        - Filename: to specify the filename and format of the output.\n",
    "            Default is .xls file called 'results.xls'\n",
    "    \"\"\"\n",
    "    \n",
    "    if website == 'Indeed':\n",
    "        job_soup = load_indeed_jobs_div(job_title, location)\n",
    "        jobs_list, num_listings = extract_job_information_indeed(job_soup, desired_characs)\n",
    "    \n",
    "    save_jobs_to_csv(jobs_list, filename)\n",
    " \n",
    "    print('{} new job postings retrieved from {}. Stored in {}.'.format(num_listings, \n",
    "                                                                          website, filename))"
   ]
  },
  {
   "cell_type": "code",
   "execution_count": null,
   "metadata": {
    "id": "X3cmKkh10aNb"
   },
   "outputs": [],
   "source": [
    "def save_jobs_to_excel(jobs_list, filename):\n",
    "    jobs = pd.DataFrame(jobs_list)\n",
    "    jobs.to_excel(filename)\n",
    "\n",
    "def save_jobs_to_csv(jobs_list, filename):\n",
    "    jobs = pd.DataFrame(jobs_list)\n",
    "    jobs.to_csv(filename)"
   ]
  },
  {
   "cell_type": "code",
   "execution_count": null,
   "metadata": {
    "id": "d8Z1Y3Qw0exv"
   },
   "outputs": [],
   "source": [
    "def load_indeed_jobs_div(job_title, location):\n",
    "    getVars = {'q' : job_title, 'l' : location, 'fromage' : 'last', 'sort' : 'date'}\n",
    "    url = ('https://www.indeed.com/jobs?' + urllib.parse.urlencode(getVars))\n",
    "    page = requests.get(url)\n",
    "    soup = BeautifulSoup(page.content, \"html.parser\")\n",
    "    job_soup = soup.find(id=\"resultsCol\")\n",
    "    return job_soup\n",
    "\n",
    "def extract_job_information_indeed(job_soup, desired_characs):\n",
    "    job_elems = job_soup.find_all('div', class_='jobsearch-SerpJobCard')\n",
    "     \n",
    "    cols = []\n",
    "    extracted_info = []\n",
    "    \n",
    "    \n",
    "    if 'titles' in desired_characs:\n",
    "        titles = []\n",
    "        cols.append('titles')\n",
    "        for job_elem in job_elems:\n",
    "            titles.append(extract_job_title_indeed(job_elem))\n",
    "        extracted_info.append(titles)                    \n",
    "    \n",
    "    if 'companies' in desired_characs:\n",
    "        companies = []\n",
    "        cols.append('companies')\n",
    "        for job_elem in job_elems:\n",
    "            companies.append(extract_company_indeed(job_elem))\n",
    "        extracted_info.append(companies)\n",
    "    \n",
    "    if 'links' in desired_characs:\n",
    "        links = []\n",
    "        cols.append('links')\n",
    "        for job_elem in job_elems:\n",
    "            links.append(extract_link_indeed(job_elem))\n",
    "        extracted_info.append(links)\n",
    "    \n",
    "    if 'date_listed' in desired_characs:\n",
    "        dates = []\n",
    "        cols.append('date_listed')\n",
    "        for job_elem in job_elems:\n",
    "            dates.append(extract_date_indeed(job_elem))\n",
    "        extracted_info.append(dates)\n",
    "    \n",
    "    jobs_list = {}\n",
    "    \n",
    "    for j in range(len(cols)):\n",
    "        jobs_list[cols[j]] = extracted_info[j]\n",
    "    \n",
    "    num_listings = len(extracted_info[0])\n",
    "    \n",
    "    return jobs_list, num_listings\n",
    "\n",
    "\n",
    "def extract_job_title_indeed(job_elem):\n",
    "    title_elem = job_elem.find('h2', class_='title')\n",
    "    title = title_elem.text.strip()\n",
    "    return title\n",
    "\n",
    "def extract_company_indeed(job_elem):\n",
    "    company_elem = job_elem.find('span', class_='company')\n",
    "    company = company_elem.text.strip()\n",
    "    return company\n",
    "\n",
    "def extract_link_indeed(job_elem):\n",
    "    link = job_elem.find('a')['href']\n",
    "    link = 'www.Indeed.com/' + link\n",
    "    return link\n",
    "\n",
    "def extract_date_indeed(job_elem):\n",
    "    date_elem = job_elem.find('span', class_='date')\n",
    "    date = date_elem.text.strip()\n",
    "    return date"
   ]
  },
  {
   "cell_type": "code",
   "execution_count": null,
   "metadata": {
    "colab": {
     "base_uri": "https://localhost:8080/"
    },
    "executionInfo": {
     "elapsed": 1402,
     "status": "ok",
     "timestamp": 1611952642403,
     "user": {
      "displayName": "Scott Cohn",
      "photoUrl": "https://lh3.googleusercontent.com/a-/AOh14Gg_9Bi7ggcQeIM-8d9m7lC6Gb5UHiYLddN2ai-2=s64",
      "userId": "09916432820167227700"
     },
     "user_tz": 360
    },
    "id": "rDBfYtvP0020",
    "outputId": "3cce8af2-3906-4e40-899d-334cc84ecf7b"
   },
   "outputs": [
    {
     "name": "stdout",
     "output_type": "stream",
     "text": [
      "15 new job postings retrieved from Indeed. Stored in results.csv.\n"
     ]
    }
   ],
   "source": [
    "find_jobs_from('Indeed', 'Grocery Clerk', 'Los Angeles, CA', ['titles'], filename=\"results.csv\")"
   ]
  },
  {
   "cell_type": "code",
   "execution_count": null,
   "metadata": {
    "colab": {
     "base_uri": "https://localhost:8080/",
     "height": 562
    },
    "executionInfo": {
     "elapsed": 11507,
     "status": "error",
     "timestamp": 1611952692121,
     "user": {
      "displayName": "Scott Cohn",
      "photoUrl": "https://lh3.googleusercontent.com/a-/AOh14Gg_9Bi7ggcQeIM-8d9m7lC6Gb5UHiYLddN2ai-2=s64",
      "userId": "09916432820167227700"
     },
     "user_tz": 360
    },
    "id": "XQipFtI53cnQ",
    "outputId": "74f03063-b7bd-48ea-e63d-a229ff21709d"
   },
   "outputs": [
    {
     "ename": "KeyboardInterrupt",
     "evalue": "ignored",
     "output_type": "error",
     "traceback": [
      "\u001b[0;31m---------------------------------------------------------------------------\u001b[0m",
      "\u001b[0;31mKeyboardInterrupt\u001b[0m                         Traceback (most recent call last)",
      "\u001b[0;32m/usr/local/lib/python3.6/dist-packages/ipykernel/kernelbase.py\u001b[0m in \u001b[0;36m_input_request\u001b[0;34m(self, prompt, ident, parent, password)\u001b[0m\n\u001b[1;32m    728\u001b[0m             \u001b[0;32mtry\u001b[0m\u001b[0;34m:\u001b[0m\u001b[0;34m\u001b[0m\u001b[0;34m\u001b[0m\u001b[0m\n\u001b[0;32m--> 729\u001b[0;31m                 \u001b[0mident\u001b[0m\u001b[0;34m,\u001b[0m \u001b[0mreply\u001b[0m \u001b[0;34m=\u001b[0m \u001b[0mself\u001b[0m\u001b[0;34m.\u001b[0m\u001b[0msession\u001b[0m\u001b[0;34m.\u001b[0m\u001b[0mrecv\u001b[0m\u001b[0;34m(\u001b[0m\u001b[0mself\u001b[0m\u001b[0;34m.\u001b[0m\u001b[0mstdin_socket\u001b[0m\u001b[0;34m,\u001b[0m \u001b[0;36m0\u001b[0m\u001b[0;34m)\u001b[0m\u001b[0;34m\u001b[0m\u001b[0;34m\u001b[0m\u001b[0m\n\u001b[0m\u001b[1;32m    730\u001b[0m             \u001b[0;32mexcept\u001b[0m \u001b[0mException\u001b[0m\u001b[0;34m:\u001b[0m\u001b[0;34m\u001b[0m\u001b[0;34m\u001b[0m\u001b[0m\n",
      "\u001b[0;32m/usr/local/lib/python3.6/dist-packages/jupyter_client/session.py\u001b[0m in \u001b[0;36mrecv\u001b[0;34m(self, socket, mode, content, copy)\u001b[0m\n\u001b[1;32m    802\u001b[0m         \u001b[0;32mtry\u001b[0m\u001b[0;34m:\u001b[0m\u001b[0;34m\u001b[0m\u001b[0;34m\u001b[0m\u001b[0m\n\u001b[0;32m--> 803\u001b[0;31m             \u001b[0mmsg_list\u001b[0m \u001b[0;34m=\u001b[0m \u001b[0msocket\u001b[0m\u001b[0;34m.\u001b[0m\u001b[0mrecv_multipart\u001b[0m\u001b[0;34m(\u001b[0m\u001b[0mmode\u001b[0m\u001b[0;34m,\u001b[0m \u001b[0mcopy\u001b[0m\u001b[0;34m=\u001b[0m\u001b[0mcopy\u001b[0m\u001b[0;34m)\u001b[0m\u001b[0;34m\u001b[0m\u001b[0;34m\u001b[0m\u001b[0m\n\u001b[0m\u001b[1;32m    804\u001b[0m         \u001b[0;32mexcept\u001b[0m \u001b[0mzmq\u001b[0m\u001b[0;34m.\u001b[0m\u001b[0mZMQError\u001b[0m \u001b[0;32mas\u001b[0m \u001b[0me\u001b[0m\u001b[0;34m:\u001b[0m\u001b[0;34m\u001b[0m\u001b[0;34m\u001b[0m\u001b[0m\n",
      "\u001b[0;32m/usr/local/lib/python3.6/dist-packages/zmq/sugar/socket.py\u001b[0m in \u001b[0;36mrecv_multipart\u001b[0;34m(self, flags, copy, track)\u001b[0m\n\u001b[1;32m    582\u001b[0m         \"\"\"\n\u001b[0;32m--> 583\u001b[0;31m         \u001b[0mparts\u001b[0m \u001b[0;34m=\u001b[0m \u001b[0;34m[\u001b[0m\u001b[0mself\u001b[0m\u001b[0;34m.\u001b[0m\u001b[0mrecv\u001b[0m\u001b[0;34m(\u001b[0m\u001b[0mflags\u001b[0m\u001b[0;34m,\u001b[0m \u001b[0mcopy\u001b[0m\u001b[0;34m=\u001b[0m\u001b[0mcopy\u001b[0m\u001b[0;34m,\u001b[0m \u001b[0mtrack\u001b[0m\u001b[0;34m=\u001b[0m\u001b[0mtrack\u001b[0m\u001b[0;34m)\u001b[0m\u001b[0;34m]\u001b[0m\u001b[0;34m\u001b[0m\u001b[0;34m\u001b[0m\u001b[0m\n\u001b[0m\u001b[1;32m    584\u001b[0m         \u001b[0;31m# have first part already, only loop while more to receive\u001b[0m\u001b[0;34m\u001b[0m\u001b[0;34m\u001b[0m\u001b[0;34m\u001b[0m\u001b[0m\n",
      "\u001b[0;32mzmq/backend/cython/socket.pyx\u001b[0m in \u001b[0;36mzmq.backend.cython.socket.Socket.recv\u001b[0;34m()\u001b[0m\n",
      "\u001b[0;32mzmq/backend/cython/socket.pyx\u001b[0m in \u001b[0;36mzmq.backend.cython.socket.Socket.recv\u001b[0;34m()\u001b[0m\n",
      "\u001b[0;32mzmq/backend/cython/socket.pyx\u001b[0m in \u001b[0;36mzmq.backend.cython.socket._recv_copy\u001b[0;34m()\u001b[0m\n",
      "\u001b[0;32m/usr/local/lib/python3.6/dist-packages/zmq/backend/cython/checkrc.pxd\u001b[0m in \u001b[0;36mzmq.backend.cython.checkrc._check_rc\u001b[0;34m()\u001b[0m\n",
      "\u001b[0;31mKeyboardInterrupt\u001b[0m: ",
      "\nDuring handling of the above exception, another exception occurred:\n",
      "\u001b[0;31mKeyboardInterrupt\u001b[0m                         Traceback (most recent call last)",
      "\u001b[0;32m<ipython-input-32-d5df0069828e>\u001b[0m in \u001b[0;36m<module>\u001b[0;34m()\u001b[0m\n\u001b[1;32m      1\u001b[0m \u001b[0;32mfrom\u001b[0m \u001b[0mgoogle\u001b[0m\u001b[0;34m.\u001b[0m\u001b[0mcolab\u001b[0m \u001b[0;32mimport\u001b[0m \u001b[0mdrive\u001b[0m\u001b[0;34m\u001b[0m\u001b[0;34m\u001b[0m\u001b[0m\n\u001b[0;32m----> 2\u001b[0;31m \u001b[0mdrive\u001b[0m\u001b[0;34m.\u001b[0m\u001b[0mmount\u001b[0m\u001b[0;34m(\u001b[0m\u001b[0;34m'/content/drive'\u001b[0m\u001b[0;34m)\u001b[0m\u001b[0;34m\u001b[0m\u001b[0;34m\u001b[0m\u001b[0m\n\u001b[0m",
      "\u001b[0;32m/usr/local/lib/python3.6/dist-packages/google/colab/drive.py\u001b[0m in \u001b[0;36mmount\u001b[0;34m(mountpoint, force_remount, timeout_ms, use_metadata_server)\u001b[0m\n\u001b[1;32m    260\u001b[0m       \u001b[0;32mwith\u001b[0m \u001b[0m_output\u001b[0m\u001b[0;34m.\u001b[0m\u001b[0muse_tags\u001b[0m\u001b[0;34m(\u001b[0m\u001b[0;34m'dfs-auth-dance'\u001b[0m\u001b[0;34m)\u001b[0m\u001b[0;34m:\u001b[0m\u001b[0;34m\u001b[0m\u001b[0;34m\u001b[0m\u001b[0m\n\u001b[1;32m    261\u001b[0m         \u001b[0;32mwith\u001b[0m \u001b[0mopen\u001b[0m\u001b[0;34m(\u001b[0m\u001b[0mfifo\u001b[0m\u001b[0;34m,\u001b[0m \u001b[0;34m'w'\u001b[0m\u001b[0;34m)\u001b[0m \u001b[0;32mas\u001b[0m \u001b[0mfifo_file\u001b[0m\u001b[0;34m:\u001b[0m\u001b[0;34m\u001b[0m\u001b[0;34m\u001b[0m\u001b[0m\n\u001b[0;32m--> 262\u001b[0;31m           \u001b[0mfifo_file\u001b[0m\u001b[0;34m.\u001b[0m\u001b[0mwrite\u001b[0m\u001b[0;34m(\u001b[0m\u001b[0mget_code\u001b[0m\u001b[0;34m(\u001b[0m\u001b[0mauth_prompt\u001b[0m\u001b[0;34m)\u001b[0m \u001b[0;34m+\u001b[0m \u001b[0;34m'\\n'\u001b[0m\u001b[0;34m)\u001b[0m\u001b[0;34m\u001b[0m\u001b[0;34m\u001b[0m\u001b[0m\n\u001b[0m\u001b[1;32m    263\u001b[0m       \u001b[0mwrote_to_fifo\u001b[0m \u001b[0;34m=\u001b[0m \u001b[0;32mTrue\u001b[0m\u001b[0;34m\u001b[0m\u001b[0;34m\u001b[0m\u001b[0m\n\u001b[1;32m    264\u001b[0m     \u001b[0;32melif\u001b[0m \u001b[0mcase\u001b[0m \u001b[0;34m==\u001b[0m \u001b[0;36m5\u001b[0m\u001b[0;34m:\u001b[0m\u001b[0;34m\u001b[0m\u001b[0;34m\u001b[0m\u001b[0m\n",
      "\u001b[0;32m/usr/local/lib/python3.6/dist-packages/ipykernel/kernelbase.py\u001b[0m in \u001b[0;36mraw_input\u001b[0;34m(self, prompt)\u001b[0m\n\u001b[1;32m    702\u001b[0m             \u001b[0mself\u001b[0m\u001b[0;34m.\u001b[0m\u001b[0m_parent_ident\u001b[0m\u001b[0;34m,\u001b[0m\u001b[0;34m\u001b[0m\u001b[0;34m\u001b[0m\u001b[0m\n\u001b[1;32m    703\u001b[0m             \u001b[0mself\u001b[0m\u001b[0;34m.\u001b[0m\u001b[0m_parent_header\u001b[0m\u001b[0;34m,\u001b[0m\u001b[0;34m\u001b[0m\u001b[0;34m\u001b[0m\u001b[0m\n\u001b[0;32m--> 704\u001b[0;31m             \u001b[0mpassword\u001b[0m\u001b[0;34m=\u001b[0m\u001b[0;32mFalse\u001b[0m\u001b[0;34m,\u001b[0m\u001b[0;34m\u001b[0m\u001b[0;34m\u001b[0m\u001b[0m\n\u001b[0m\u001b[1;32m    705\u001b[0m         )\n\u001b[1;32m    706\u001b[0m \u001b[0;34m\u001b[0m\u001b[0m\n",
      "\u001b[0;32m/usr/local/lib/python3.6/dist-packages/ipykernel/kernelbase.py\u001b[0m in \u001b[0;36m_input_request\u001b[0;34m(self, prompt, ident, parent, password)\u001b[0m\n\u001b[1;32m    732\u001b[0m             \u001b[0;32mexcept\u001b[0m \u001b[0mKeyboardInterrupt\u001b[0m\u001b[0;34m:\u001b[0m\u001b[0;34m\u001b[0m\u001b[0;34m\u001b[0m\u001b[0m\n\u001b[1;32m    733\u001b[0m                 \u001b[0;31m# re-raise KeyboardInterrupt, to truncate traceback\u001b[0m\u001b[0;34m\u001b[0m\u001b[0;34m\u001b[0m\u001b[0;34m\u001b[0m\u001b[0m\n\u001b[0;32m--> 734\u001b[0;31m                 \u001b[0;32mraise\u001b[0m \u001b[0mKeyboardInterrupt\u001b[0m\u001b[0;34m\u001b[0m\u001b[0;34m\u001b[0m\u001b[0m\n\u001b[0m\u001b[1;32m    735\u001b[0m             \u001b[0;32melse\u001b[0m\u001b[0;34m:\u001b[0m\u001b[0;34m\u001b[0m\u001b[0;34m\u001b[0m\u001b[0m\n\u001b[1;32m    736\u001b[0m                 \u001b[0;32mbreak\u001b[0m\u001b[0;34m\u001b[0m\u001b[0;34m\u001b[0m\u001b[0m\n",
      "\u001b[0;31mKeyboardInterrupt\u001b[0m: "
     ]
    }
   ],
   "source": []
  },
  {
   "cell_type": "code",
   "execution_count": null,
   "metadata": {
    "id": "35XChKho4A8j"
   },
   "outputs": [],
   "source": []
  },
  {
   "cell_type": "markdown",
   "metadata": {
    "id": "mE4-0Ji_4Cft"
   },
   "source": [
    "## Version 3"
   ]
  },
  {
   "cell_type": "code",
   "execution_count": null,
   "metadata": {
    "colab": {
     "base_uri": "https://localhost:8080/"
    },
    "executionInfo": {
     "elapsed": 4468,
     "status": "ok",
     "timestamp": 1611952819698,
     "user": {
      "displayName": "Scott Cohn",
      "photoUrl": "https://lh3.googleusercontent.com/a-/AOh14Gg_9Bi7ggcQeIM-8d9m7lC6Gb5UHiYLddN2ai-2=s64",
      "userId": "09916432820167227700"
     },
     "user_tz": 360
    },
    "id": "QxFmlKvk1TmV",
    "outputId": "7fa588a0-6d98-4a10-a956-2de2b6f1ffee"
   },
   "outputs": [
    {
     "name": "stdout",
     "output_type": "stream",
     "text": [
      "Collecting jobs_scraper\n",
      "  Downloading https://files.pythonhosted.org/packages/4e/54/53dbc489cd6e2494521e534bfb6e9607118d2022561dbe93e851f155f986/jobs_scraper-0.0.10.tar.gz\n",
      "Requirement already satisfied: pandas in /usr/local/lib/python3.6/dist-packages (from jobs_scraper) (1.1.5)\n",
      "Requirement already satisfied: requests in /usr/local/lib/python3.6/dist-packages (from jobs_scraper) (2.23.0)\n",
      "Requirement already satisfied: bs4 in /usr/local/lib/python3.6/dist-packages (from jobs_scraper) (0.0.1)\n",
      "Requirement already satisfied: tqdm in /usr/local/lib/python3.6/dist-packages (from jobs_scraper) (4.41.1)\n",
      "Requirement already satisfied: lxml in /usr/local/lib/python3.6/dist-packages (from jobs_scraper) (4.2.6)\n",
      "Requirement already satisfied: pytz>=2017.2 in /usr/local/lib/python3.6/dist-packages (from pandas->jobs_scraper) (2018.9)\n",
      "Requirement already satisfied: numpy>=1.15.4 in /usr/local/lib/python3.6/dist-packages (from pandas->jobs_scraper) (1.19.5)\n",
      "Requirement already satisfied: python-dateutil>=2.7.3 in /usr/local/lib/python3.6/dist-packages (from pandas->jobs_scraper) (2.8.1)\n",
      "Requirement already satisfied: certifi>=2017.4.17 in /usr/local/lib/python3.6/dist-packages (from requests->jobs_scraper) (2020.12.5)\n",
      "Requirement already satisfied: idna<3,>=2.5 in /usr/local/lib/python3.6/dist-packages (from requests->jobs_scraper) (2.10)\n",
      "Requirement already satisfied: chardet<4,>=3.0.2 in /usr/local/lib/python3.6/dist-packages (from requests->jobs_scraper) (3.0.4)\n",
      "Requirement already satisfied: urllib3!=1.25.0,!=1.25.1,<1.26,>=1.21.1 in /usr/local/lib/python3.6/dist-packages (from requests->jobs_scraper) (1.24.3)\n",
      "Requirement already satisfied: beautifulsoup4 in /usr/local/lib/python3.6/dist-packages (from bs4->jobs_scraper) (4.6.3)\n",
      "Requirement already satisfied: six>=1.5 in /usr/local/lib/python3.6/dist-packages (from python-dateutil>=2.7.3->pandas->jobs_scraper) (1.15.0)\n",
      "Building wheels for collected packages: jobs-scraper\n",
      "  Building wheel for jobs-scraper (setup.py) ... \u001b[?25l\u001b[?25hdone\n",
      "  Created wheel for jobs-scraper: filename=jobs_scraper-0.0.10-cp36-none-any.whl size=4848 sha256=9130c5f8696d05f5f62af55ac9f091c26def1f99ad5f31ea116e5bed04d185e5\n",
      "  Stored in directory: /root/.cache/pip/wheels/86/dd/7f/7afacdf410d538af509942447b53d3b74b390da2793038d745\n",
      "Successfully built jobs-scraper\n",
      "Installing collected packages: jobs-scraper\n",
      "Successfully installed jobs-scraper-0.0.10\n"
     ]
    }
   ],
   "source": [
    "pip install jobs_scraper"
   ]
  },
  {
   "cell_type": "code",
   "execution_count": null,
   "metadata": {
    "id": "3wKdlfKX3_wo"
   },
   "outputs": [],
   "source": [
    "# https://pypi.org/project/jobs-scraper/\n",
    "from jobs_scraper import JobsScraper"
   ]
  },
  {
   "cell_type": "code",
   "execution_count": null,
   "metadata": {
    "colab": {
     "base_uri": "https://localhost:8080/",
     "height": 831,
     "referenced_widgets": [
      "a070156bc1b5406abdb30465da2d68e1",
      "2c5e5192f36648bc95c7daca11dd3ab0",
      "0b3ce08acfa140dcaa26fd07b8d6fe56",
      "8f52fd46337e4c09b043f4d689fdb75f",
      "be3837a97059446d9701a62ab4fb09fb",
      "b37e673c85d34661a45c4dece4094a4b",
      "ce174d628b804d1988ee2adb60d1fa71",
      "805d48d2d13749e38a9f05ed5448f466"
     ]
    },
    "executionInfo": {
     "elapsed": 4170,
     "status": "ok",
     "timestamp": 1611952886006,
     "user": {
      "displayName": "Scott Cohn",
      "photoUrl": "https://lh3.googleusercontent.com/a-/AOh14Gg_9Bi7ggcQeIM-8d9m7lC6Gb5UHiYLddN2ai-2=s64",
      "userId": "09916432820167227700"
     },
     "user_tz": 360
    },
    "id": "C0AkmnhZ4GqB",
    "outputId": "babd3984-be9d-4533-9e5e-f574c1896c89"
   },
   "outputs": [
    {
     "data": {
      "application/vnd.jupyter.widget-view+json": {
       "model_id": "a070156bc1b5406abdb30465da2d68e1",
       "version_major": 2,
       "version_minor": 0
      },
      "text/plain": [
       "HBox(children=(FloatProgress(value=0.0, description='Scraping in progress...', max=3.0, style=ProgressStyle(de…"
      ]
     },
     "metadata": {
      "tags": []
     },
     "output_type": "display_data"
    },
    {
     "name": "stdout",
     "output_type": "stream",
     "text": [
      "Scraping Grocery - Clerk...\n",
      "Scraping Ralphs Retail Clerk (9th & Flower)...\n",
      "Scraping Grocery Clerk...\n",
      "Scraping Food 4 Less Retail Clerk (Olympic & Hoover)...\n",
      "Scraping Grocery Clerk...\n",
      "Scraping Grocery Clerk...\n",
      "Scraping Ralphs Retail Clerk (Wiltern)...\n",
      "Scraping Grocery Clerk...\n",
      "Scraping Night Crew Clerk (overnight shift)...\n",
      "Scraping Food 4 Less Retail Clerk (Olympic & Colada)...\n",
      "Scraping Food 4 Less Retail Clerk (Athens)...\n",
      "Scraping Courtesy Clerk...\n",
      "Scraping Night Crew Clerk (graveyard shift) SK# 6 - Van Nuys, CA...\n",
      "Scraping COMMISSARY SUPPORT CLERK...\n",
      "Scraping Ralphs Retail Clerk (Colorado)...\n",
      "Scraping Grocery General Merchandise Clerk...\n",
      "Scraping Ralphs Retail Clerk (Wilshre/Hauser)...\n",
      "Scraping Ralphs Retail Clerk (Coldwater)...\n",
      "Scraping Ralphs Retail Clerk (Slauson & Crenshaw)...\n",
      "Scraping Food 4 Less Retail Clerk (Watts)...\n",
      "Scraping International Grocery Clerk...\n",
      "Scraping Ralphs Retail Clerk (Olympic & Cloverfield)...\n",
      "Scraping Ralphs Retail Clerk (San Fernando & Alameda)...\n",
      "Scraping Ralphs Retail Clerk (Pico/San Vicente)...\n",
      "Scraping Ralphs Retail Clerk (Avalon & Carson)...\n",
      "Scraping Food 4 Less Retail Clerk (El Sereno)...\n",
      "Scraping Ralphs Retail Clerk (Devonshire & Balboa)...\n",
      "Scraping Ralphs Retail Clerk (Beverly & Doheny)...\n",
      "Scraping Ralphs Retail Clerk (Beverly/Wilshire)...\n",
      "Scraping Ralphs Retail Clerk (Carson & Abalone)...\n",
      "Scraping Nite Crew Clerk...\n",
      "Scraping Ralphs Retail Clerk (Van Nuys & Burbank)...\n",
      "Scraping Ralphs Retail Clerk (Rodeo & La Brea)...\n",
      "Scraping Ralphs Retail Clerk (Sunhill)...\n",
      "Scraping Ralphs Retail Clerk (Fallbrook & Victory)...\n",
      "Scraping Ralphs Retail Clerk (La Canada)...\n",
      "Scraping Ralphs Retail Clerk (Centinela/La Brea)...\n",
      "Scraping Ralphs Retail Clerk (Los Coyotes)...\n",
      "Scraping Food 4 Less Retail Clerk (Redondo & Anaheim)...\n",
      "Scraping Ralphs Retail Clerk (Cherry & Carson)...\n",
      "Scraping Ralphs Retail Clerk (National & Sawtelle)...\n",
      "Scraping Courtesy Clerk Part-time...\n",
      "Scraping Ralphs Retail Clerk (Marina Pacifica)...\n",
      "Scraping Ralphs Retail Clerk (Coldwater & Ventura)...\n",
      "Scraping Courtesy Clerk...\n",
      "\n"
     ]
    }
   ],
   "source": [
    "scraper = JobsScraper(country=\"US\", position=\"Grocery Clerk\", \n",
    "                      location=\"Los Angeles, CA\", pages=3,\n",
    "                      max_delay = 5)\n",
    "\n",
    "df = scraper.scrape()"
   ]
  },
  {
   "cell_type": "code",
   "execution_count": null,
   "metadata": {
    "colab": {
     "base_uri": "https://localhost:8080/",
     "height": 374
    },
    "executionInfo": {
     "elapsed": 449,
     "status": "ok",
     "timestamp": 1611960697860,
     "user": {
      "displayName": "Scott Cohn",
      "photoUrl": "https://lh3.googleusercontent.com/a-/AOh14Gg_9Bi7ggcQeIM-8d9m7lC6Gb5UHiYLddN2ai-2=s64",
      "userId": "09916432820167227700"
     },
     "user_tz": 360
    },
    "id": "2JUxUf1S4QBa",
    "outputId": "6eae9a0f-7e07-4324-b58d-ebd0f8e49ee6"
   },
   "outputs": [
    {
     "data": {
      "text/html": [
       "<div>\n",
       "<style scoped>\n",
       "    .dataframe tbody tr th:only-of-type {\n",
       "        vertical-align: middle;\n",
       "    }\n",
       "\n",
       "    .dataframe tbody tr th {\n",
       "        vertical-align: top;\n",
       "    }\n",
       "\n",
       "    .dataframe thead th {\n",
       "        text-align: right;\n",
       "    }\n",
       "</style>\n",
       "<table border=\"1\" class=\"dataframe\">\n",
       "  <thead>\n",
       "    <tr style=\"text-align: right;\">\n",
       "      <th></th>\n",
       "      <th>title</th>\n",
       "      <th>location</th>\n",
       "      <th>company</th>\n",
       "      <th>summary</th>\n",
       "      <th>salary</th>\n",
       "      <th>url</th>\n",
       "    </tr>\n",
       "  </thead>\n",
       "  <tbody>\n",
       "    <tr>\n",
       "      <th>0</th>\n",
       "      <td>Grocery - Clerk</td>\n",
       "      <td>Los Angeles, CA</td>\n",
       "      <td>Bristol Farms and Lazy Acres Natural Market</td>\n",
       "      <td>Stocks shelves, dairy case and other areas of ...</td>\n",
       "      <td>None</td>\n",
       "      <td>https://indeed.com/rc/clk?jk=c8545fc5aae35dad&amp;...</td>\n",
       "    </tr>\n",
       "    <tr>\n",
       "      <th>1</th>\n",
       "      <td>Ralphs Retail Clerk (9th &amp; Flower)</td>\n",
       "      <td>Los Angeles, CA 90015 (Downtown area)</td>\n",
       "      <td>Ralphs</td>\n",
       "      <td>Assist customers at checkout and bag groceries...</td>\n",
       "      <td>None</td>\n",
       "      <td>https://indeed.com/rc/clk?jk=0f972951eff3bae3&amp;...</td>\n",
       "    </tr>\n",
       "    <tr>\n",
       "      <th>2</th>\n",
       "      <td>Grocery Clerk</td>\n",
       "      <td>Glendale, CA 91201</td>\n",
       "      <td>Super King Market</td>\n",
       "      <td>This role will be responsible for unloading an...</td>\n",
       "      <td>$14 - $16 an hour</td>\n",
       "      <td>https://indeed.com/rc/clk?jk=322949d6c1c2d0c8&amp;...</td>\n",
       "    </tr>\n",
       "    <tr>\n",
       "      <th>3</th>\n",
       "      <td>Food 4 Less Retail Clerk (Olympic &amp; Hoover)</td>\n",
       "      <td>Los Angeles, CA 90006 (Harvard Heights area)</td>\n",
       "      <td>Food 4 Less</td>\n",
       "      <td>Assist customers at checkout and bag groceries...</td>\n",
       "      <td>None</td>\n",
       "      <td>https://indeed.com/rc/clk?jk=8800dac325a156d5&amp;...</td>\n",
       "    </tr>\n",
       "    <tr>\n",
       "      <th>4</th>\n",
       "      <td>Grocery Clerk</td>\n",
       "      <td>Los Angeles, CA 90016 (West Adams area)</td>\n",
       "      <td>SK MARKET INC</td>\n",
       "      <td>Open cartons and price items accurately; keep ...</td>\n",
       "      <td>None</td>\n",
       "      <td>https://indeed.com/rc/clk?jk=b300e8f9df8bb053&amp;...</td>\n",
       "    </tr>\n",
       "  </tbody>\n",
       "</table>\n",
       "</div>"
      ],
      "text/plain": [
       "                                         title  ...                                                url\n",
       "0                              Grocery - Clerk  ...  https://indeed.com/rc/clk?jk=c8545fc5aae35dad&...\n",
       "1           Ralphs Retail Clerk (9th & Flower)  ...  https://indeed.com/rc/clk?jk=0f972951eff3bae3&...\n",
       "2                                Grocery Clerk  ...  https://indeed.com/rc/clk?jk=322949d6c1c2d0c8&...\n",
       "3  Food 4 Less Retail Clerk (Olympic & Hoover)  ...  https://indeed.com/rc/clk?jk=8800dac325a156d5&...\n",
       "4                                Grocery Clerk  ...  https://indeed.com/rc/clk?jk=b300e8f9df8bb053&...\n",
       "\n",
       "[5 rows x 6 columns]"
      ]
     },
     "execution_count": 61,
     "metadata": {
      "tags": []
     },
     "output_type": "execute_result"
    }
   ],
   "source": [
    "df.head()"
   ]
  },
  {
   "cell_type": "code",
   "execution_count": null,
   "metadata": {
    "id": "bc6o6vGP4T85"
   },
   "outputs": [],
   "source": []
  },
  {
   "cell_type": "code",
   "execution_count": null,
   "metadata": {
    "id": "85fCzTo9FD7B"
   },
   "outputs": [],
   "source": []
  },
  {
   "cell_type": "markdown",
   "metadata": {
    "id": "bs8c_1PDFFxu"
   },
   "source": [
    "## Version 4"
   ]
  },
  {
   "cell_type": "code",
   "execution_count": null,
   "metadata": {
    "id": "a1jlyBpvFHrc"
   },
   "outputs": [],
   "source": [
    "import urllib\n",
    "import requests\n",
    "import bs4\n",
    "from bs4 import BeautifulSoup\n",
    "import pandas as pd\n",
    "import re"
   ]
  },
  {
   "cell_type": "markdown",
   "metadata": {
    "id": "2pJK6ffrFZ9d"
   },
   "source": [
    "The Indeed URL has some structure to it that we can exploit to make the scraping easier."
   ]
  },
  {
   "cell_type": "code",
   "execution_count": null,
   "metadata": {
    "id": "c8BbEq2rFPyz"
   },
   "outputs": [],
   "source": [
    "# define URL template\n",
    "url_template = \"https://www.indeed.com/jobs?q={}&l={}&start={}\"\n",
    "\n",
    "# page 1 https://www.indeed.com/jobs?q=grocery+clerk&l=Los+Angeles%2C+CA&start=0\n",
    "# page 2 https://www.indeed.com/jobs?q=grocery+clerk&l=Los+Angeles%2C+CA&start=10"
   ]
  },
  {
   "cell_type": "code",
   "execution_count": null,
   "metadata": {
    "colab": {
     "base_uri": "https://localhost:8080/"
    },
    "executionInfo": {
     "elapsed": 388,
     "status": "ok",
     "timestamp": 1611956785486,
     "user": {
      "displayName": "Scott Cohn",
      "photoUrl": "https://lh3.googleusercontent.com/a-/AOh14Gg_9Bi7ggcQeIM-8d9m7lC6Gb5UHiYLddN2ai-2=s64",
      "userId": "09916432820167227700"
     },
     "user_tz": 360
    },
    "id": "rm-wUJnQF6Fa",
    "outputId": "8bdbad72-e33a-414b-9400-b74a0200a370"
   },
   "outputs": [
    {
     "name": "stdout",
     "output_type": "stream",
     "text": [
      "los+angeles%2C+CA\n"
     ]
    }
   ],
   "source": [
    "# Input\n",
    "city_name = 'los+angeles'\n",
    "state = 'CA'\n",
    "\n",
    "# loc to be searched\n",
    "location = city_name + '%2C+' + state \n",
    "\n",
    "print(location)"
   ]
  },
  {
   "cell_type": "code",
   "execution_count": null,
   "metadata": {
    "id": "LvIC1nbuHI91"
   },
   "outputs": [],
   "source": [
    "max_results = 100\n",
    "\n",
    "i = 0\n",
    "results = [] \n",
    "df_more = pd.DataFrame(columns=[\"Title\",\"Location\",\"Company\",\"Salary\", \"Synopsis\"])\n"
   ]
  },
  {
   "cell_type": "code",
   "execution_count": null,
   "metadata": {
    "id": "-tox8DGpZ5nQ"
   },
   "outputs": [],
   "source": []
  },
  {
   "cell_type": "markdown",
   "metadata": {
    "id": "TlXHSTU6Z6Ko"
   },
   "source": [
    "# Version 5"
   ]
  },
  {
   "cell_type": "code",
   "execution_count": 72,
   "metadata": {
    "executionInfo": {
     "elapsed": 405,
     "status": "ok",
     "timestamp": 1611963894956,
     "user": {
      "displayName": "Scott Cohn",
      "photoUrl": "https://lh3.googleusercontent.com/a-/AOh14Gg_9Bi7ggcQeIM-8d9m7lC6Gb5UHiYLddN2ai-2=s64",
      "userId": "09916432820167227700"
     },
     "user_tz": 360
    },
    "id": "bV81SQbnYq44"
   },
   "outputs": [],
   "source": [
    "import indeed_scraper"
   ]
  },
  {
   "cell_type": "code",
   "execution_count": null,
   "metadata": {
    "id": "N_Fn7_STZkdH"
   },
   "outputs": [],
   "source": [
    "scraper = indeed_scraper.JobsScraper(country=\"US\", position=\"science\", \n",
    "                      location=\"Los Angeles, CA\", pages=1,\n",
    "                      max_delay = 3)\n",
    "\n",
    "df = scraper.scrape()\n",
    "\n",
    "df.head()"
   ]
  },
  {
   "cell_type": "code",
   "execution_count": null,
   "metadata": {
    "colab": {
     "base_uri": "https://localhost:8080/",
     "height": 496
    },
    "executionInfo": {
     "elapsed": 864,
     "status": "ok",
     "timestamp": 1611962032874,
     "user": {
      "displayName": "Scott Cohn",
      "photoUrl": "https://lh3.googleusercontent.com/a-/AOh14Gg_9Bi7ggcQeIM-8d9m7lC6Gb5UHiYLddN2ai-2=s64",
      "userId": "09916432820167227700"
     },
     "user_tz": 360
    },
    "id": "rxA-fWHDayrI",
    "outputId": "02ad9c71-c794-463d-91fe-0d394c42b4ec"
   },
   "outputs": [
    {
     "data": {
      "text/html": [
       "<div>\n",
       "<style scoped>\n",
       "    .dataframe tbody tr th:only-of-type {\n",
       "        vertical-align: middle;\n",
       "    }\n",
       "\n",
       "    .dataframe tbody tr th {\n",
       "        vertical-align: top;\n",
       "    }\n",
       "\n",
       "    .dataframe thead th {\n",
       "        text-align: right;\n",
       "    }\n",
       "</style>\n",
       "<table border=\"1\" class=\"dataframe\">\n",
       "  <thead>\n",
       "    <tr style=\"text-align: right;\">\n",
       "      <th></th>\n",
       "      <th>title</th>\n",
       "      <th>location</th>\n",
       "      <th>company</th>\n",
       "      <th>summary</th>\n",
       "      <th>salary</th>\n",
       "      <th>date_posted</th>\n",
       "      <th>date_scraped</th>\n",
       "      <th>url</th>\n",
       "    </tr>\n",
       "  </thead>\n",
       "  <tbody>\n",
       "    <tr>\n",
       "      <th>10</th>\n",
       "      <td>Basic Science Research Technician</td>\n",
       "      <td>Los Angeles, CA 90059</td>\n",
       "      <td>Charles R. Drew University</td>\n",
       "      <td>Familiar with molecular biology techniques/sci...</td>\n",
       "      <td>None</td>\n",
       "      <td>8 days ago</td>\n",
       "      <td>2021-01-29</td>\n",
       "      <td>https://indeed.com/rc/clk?jk=10ddf1f8b8686c85&amp;...</td>\n",
       "    </tr>\n",
       "    <tr>\n",
       "      <th>11</th>\n",
       "      <td>Laboratory Scientist II</td>\n",
       "      <td>Chino, CA 91708</td>\n",
       "      <td>Inland Empire Utilities Agency</td>\n",
       "      <td>Graduation from an accredited four-year colleg...</td>\n",
       "      <td>$40.73 - $49.62 an hour</td>\n",
       "      <td>17 days ago</td>\n",
       "      <td>2021-01-29</td>\n",
       "      <td>https://indeed.com/rc/clk?jk=d997a22095af700e&amp;...</td>\n",
       "    </tr>\n",
       "    <tr>\n",
       "      <th>12</th>\n",
       "      <td>Microbiology Laboratory Technician 1</td>\n",
       "      <td>Torrance, CA 90503</td>\n",
       "      <td>ALS Environmental</td>\n",
       "      <td>College courses in micro or life sciences.The ...</td>\n",
       "      <td>None</td>\n",
       "      <td>Today</td>\n",
       "      <td>2021-01-29</td>\n",
       "      <td>https://indeed.com/rc/clk?jk=d29885943b97f632&amp;...</td>\n",
       "    </tr>\n",
       "    <tr>\n",
       "      <th>13</th>\n",
       "      <td>Research Engineering Assistant</td>\n",
       "      <td>Pasadena, CA 91125 (South area)</td>\n",
       "      <td>California Institute of Technology</td>\n",
       "      <td>Reporting to Professor Richard Flagan, the Res...</td>\n",
       "      <td>None</td>\n",
       "      <td>Just posted</td>\n",
       "      <td>2021-01-29</td>\n",
       "      <td>https://indeed.com/rc/clk?jk=8cab79ac68cca1af&amp;...</td>\n",
       "    </tr>\n",
       "    <tr>\n",
       "      <th>14</th>\n",
       "      <td>Laboratory Associate I,II,III</td>\n",
       "      <td>Irvine, CA 92618 (East Industrial Complex area)</td>\n",
       "      <td>ResearchDx</td>\n",
       "      <td>Ability to lift 15-25 pounds and stand for pro...</td>\n",
       "      <td>None</td>\n",
       "      <td>Today</td>\n",
       "      <td>2021-01-29</td>\n",
       "      <td>https://indeed.com/rc/clk?jk=5e50dee90e1c413d&amp;...</td>\n",
       "    </tr>\n",
       "  </tbody>\n",
       "</table>\n",
       "</div>"
      ],
      "text/plain": [
       "                                   title  ...                                                url\n",
       "10     Basic Science Research Technician  ...  https://indeed.com/rc/clk?jk=10ddf1f8b8686c85&...\n",
       "11               Laboratory Scientist II  ...  https://indeed.com/rc/clk?jk=d997a22095af700e&...\n",
       "12  Microbiology Laboratory Technician 1  ...  https://indeed.com/rc/clk?jk=d29885943b97f632&...\n",
       "13        Research Engineering Assistant  ...  https://indeed.com/rc/clk?jk=8cab79ac68cca1af&...\n",
       "14         Laboratory Associate I,II,III  ...  https://indeed.com/rc/clk?jk=5e50dee90e1c413d&...\n",
       "\n",
       "[5 rows x 8 columns]"
      ]
     },
     "execution_count": 69,
     "metadata": {
      "tags": []
     },
     "output_type": "execute_result"
    }
   ],
   "source": [
    "df.tail()"
   ]
  },
  {
   "cell_type": "markdown",
   "metadata": {
    "id": "E1qmUorGbJ6B"
   },
   "source": [
    "# Test wayback"
   ]
  },
  {
   "cell_type": "code",
   "execution_count": 6,
   "metadata": {},
   "outputs": [
    {
     "ename": "ModuleNotFoundError",
     "evalue": "No module named 'indeed_scraper'",
     "output_type": "error",
     "traceback": [
      "\u001b[0;31m---------------------------------------------------------------------------\u001b[0m",
      "\u001b[0;31mModuleNotFoundError\u001b[0m                       Traceback (most recent call last)",
      "\u001b[0;32m<ipython-input-6-4311dec9a1b3>\u001b[0m in \u001b[0;36m<module>\u001b[0;34m\u001b[0m\n\u001b[1;32m      6\u001b[0m \u001b[0msys\u001b[0m\u001b[0;34m.\u001b[0m\u001b[0mpath\u001b[0m\u001b[0;34m.\u001b[0m\u001b[0minsert\u001b[0m\u001b[0;34m(\u001b[0m\u001b[0;36m0\u001b[0m\u001b[0;34m,\u001b[0m \u001b[0;34m'lib/'\u001b[0m\u001b[0;34m)\u001b[0m\u001b[0;34m\u001b[0m\u001b[0;34m\u001b[0m\u001b[0m\n\u001b[1;32m      7\u001b[0m \u001b[0;34m\u001b[0m\u001b[0m\n\u001b[0;32m----> 8\u001b[0;31m \u001b[0;32mfrom\u001b[0m \u001b[0mindeed_scraper\u001b[0m \u001b[0;32mimport\u001b[0m \u001b[0;34m*\u001b[0m\u001b[0;34m\u001b[0m\u001b[0;34m\u001b[0m\u001b[0m\n\u001b[0m",
      "\u001b[0;31mModuleNotFoundError\u001b[0m: No module named 'indeed_scraper'"
     ]
    }
   ],
   "source": [
    "import pandas as pd\n",
    "from pandas import to_timedelta\n",
    "import os\n",
    "import sys\n",
    "\n",
    "sys.path.insert(0, 'lib/')\n",
    "\n",
    "from indeed_scraper import *"
   ]
  },
  {
   "cell_type": "code",
   "execution_count": null,
   "metadata": {},
   "outputs": [],
   "source": [
    "scrape_wayback = indeed_scraper.JobsScraper(country=\"US\", \n",
    "                                     position=\"\", \n",
    "                                     location=\"Los Angeles\", \n",
    "                                     pages=2,\n",
    "                                     #wayback=True,\n",
    "                                     #wayback_id=\"&jlid=d05a4fe50c5af0a8&\",\n",
    "                                     max_delay = 3)\n",
    "\n",
    "df_wb = scrape_wayback.scrape()"
   ]
  },
  {
   "cell_type": "code",
   "execution_count": null,
   "metadata": {},
   "outputs": [],
   "source": [
    "df_wb.head()"
   ]
  },
  {
   "cell_type": "code",
   "execution_count": 4,
   "metadata": {},
   "outputs": [
    {
     "ename": "ImportError",
     "evalue": "IProgress not found. Please update jupyter and ipywidgets. See https://ipywidgets.readthedocs.io/en/stable/user_install.html",
     "output_type": "error",
     "traceback": [
      "\u001b[0;31m---------------------------------------------------------------------------\u001b[0m",
      "\u001b[0;31mImportError\u001b[0m                               Traceback (most recent call last)",
      "\u001b[0;32m<ipython-input-4-eec9b6ec66b4>\u001b[0m in \u001b[0;36m<module>\u001b[0;34m\u001b[0m\n\u001b[1;32m      7\u001b[0m                                      max_delay = 3)\n\u001b[1;32m      8\u001b[0m \u001b[0;34m\u001b[0m\u001b[0m\n\u001b[0;32m----> 9\u001b[0;31m \u001b[0mdf\u001b[0m \u001b[0;34m=\u001b[0m \u001b[0mscrape\u001b[0m\u001b[0;34m.\u001b[0m\u001b[0mscrape\u001b[0m\u001b[0;34m(\u001b[0m\u001b[0;34m)\u001b[0m\u001b[0;34m\u001b[0m\u001b[0;34m\u001b[0m\u001b[0m\n\u001b[0m",
      "\u001b[0;32m~/Documents/UT_Austin/gigwork/lib/indeed_scraper.py\u001b[0m in \u001b[0;36mscrape\u001b[0;34m(self)\u001b[0m\n\u001b[1;32m    153\u001b[0m         \"\"\"\n\u001b[1;32m    154\u001b[0m \u001b[0;34m\u001b[0m\u001b[0m\n\u001b[0;32m--> 155\u001b[0;31m         \u001b[0;32mfor\u001b[0m \u001b[0mi\u001b[0m \u001b[0;32min\u001b[0m \u001b[0mtqdm\u001b[0m\u001b[0;34m(\u001b[0m\u001b[0mrange\u001b[0m\u001b[0;34m(\u001b[0m\u001b[0;36m0\u001b[0m\u001b[0;34m,\u001b[0m \u001b[0mself\u001b[0m\u001b[0;34m.\u001b[0m\u001b[0m_pages\u001b[0m \u001b[0;34m*\u001b[0m \u001b[0;36m10\u001b[0m\u001b[0;34m,\u001b[0m \u001b[0;36m10\u001b[0m\u001b[0;34m)\u001b[0m\u001b[0;34m,\u001b[0m \u001b[0mdesc\u001b[0m \u001b[0;34m=\u001b[0m \u001b[0;34m\"Scraping in progress...\"\u001b[0m\u001b[0;34m,\u001b[0m \u001b[0mtotal\u001b[0m \u001b[0;34m=\u001b[0m \u001b[0mself\u001b[0m\u001b[0;34m.\u001b[0m\u001b[0m_pages\u001b[0m\u001b[0;34m)\u001b[0m\u001b[0;34m:\u001b[0m\u001b[0;34m\u001b[0m\u001b[0;34m\u001b[0m\u001b[0m\n\u001b[0m\u001b[1;32m    156\u001b[0m \u001b[0;34m\u001b[0m\u001b[0m\n\u001b[1;32m    157\u001b[0m             \u001b[0mpage\u001b[0m \u001b[0;34m=\u001b[0m \u001b[0mself\u001b[0m\u001b[0;34m.\u001b[0m\u001b[0m_extract_page\u001b[0m\u001b[0;34m(\u001b[0m\u001b[0mi\u001b[0m\u001b[0;34m)\u001b[0m\u001b[0;34m\u001b[0m\u001b[0;34m\u001b[0m\u001b[0m\n",
      "\u001b[0;32m~/opt/anaconda3/lib/python3.7/site-packages/tqdm/notebook.py\u001b[0m in \u001b[0;36m__init__\u001b[0;34m(self, *args, **kwargs)\u001b[0m\n\u001b[1;32m    217\u001b[0m         \u001b[0mtotal\u001b[0m \u001b[0;34m=\u001b[0m \u001b[0mself\u001b[0m\u001b[0;34m.\u001b[0m\u001b[0mtotal\u001b[0m \u001b[0;34m*\u001b[0m \u001b[0munit_scale\u001b[0m \u001b[0;32mif\u001b[0m \u001b[0mself\u001b[0m\u001b[0;34m.\u001b[0m\u001b[0mtotal\u001b[0m \u001b[0;32melse\u001b[0m \u001b[0mself\u001b[0m\u001b[0;34m.\u001b[0m\u001b[0mtotal\u001b[0m\u001b[0;34m\u001b[0m\u001b[0;34m\u001b[0m\u001b[0m\n\u001b[1;32m    218\u001b[0m         self.container = self.status_printer(\n\u001b[0;32m--> 219\u001b[0;31m             self.fp, total, self.desc, self.ncols)\n\u001b[0m\u001b[1;32m    220\u001b[0m         \u001b[0mself\u001b[0m\u001b[0;34m.\u001b[0m\u001b[0msp\u001b[0m \u001b[0;34m=\u001b[0m \u001b[0mself\u001b[0m\u001b[0;34m.\u001b[0m\u001b[0mdisplay\u001b[0m\u001b[0;34m\u001b[0m\u001b[0;34m\u001b[0m\u001b[0m\n\u001b[1;32m    221\u001b[0m \u001b[0;34m\u001b[0m\u001b[0m\n",
      "\u001b[0;32m~/opt/anaconda3/lib/python3.7/site-packages/tqdm/notebook.py\u001b[0m in \u001b[0;36mstatus_printer\u001b[0;34m(_, total, desc, ncols)\u001b[0m\n\u001b[1;32m     95\u001b[0m         \u001b[0;32mif\u001b[0m \u001b[0mIProgress\u001b[0m \u001b[0;32mis\u001b[0m \u001b[0;32mNone\u001b[0m\u001b[0;34m:\u001b[0m  \u001b[0;31m# #187 #451 #558 #872\u001b[0m\u001b[0;34m\u001b[0m\u001b[0;34m\u001b[0m\u001b[0m\n\u001b[1;32m     96\u001b[0m             raise ImportError(\n\u001b[0;32m---> 97\u001b[0;31m                 \u001b[0;34m\"IProgress not found. Please update jupyter and ipywidgets.\"\u001b[0m\u001b[0;34m\u001b[0m\u001b[0;34m\u001b[0m\u001b[0m\n\u001b[0m\u001b[1;32m     98\u001b[0m                 \u001b[0;34m\" See https://ipywidgets.readthedocs.io/en/stable\"\u001b[0m\u001b[0;34m\u001b[0m\u001b[0;34m\u001b[0m\u001b[0m\n\u001b[1;32m     99\u001b[0m                 \"/user_install.html\")\n",
      "\u001b[0;31mImportError\u001b[0m: IProgress not found. Please update jupyter and ipywidgets. See https://ipywidgets.readthedocs.io/en/stable/user_install.html"
     ]
    }
   ],
   "source": [
    "scrape = indeed_scraper.JobsScraper(country=\"US\", \n",
    "                                     position=\"\", \n",
    "                                     location=\"Los Angeles\", \n",
    "                                     pages=2,\n",
    "                                     #wayback=True,\n",
    "                                     #wayback_id=\"&jlid=d05a4fe50c5af0a8&\",\n",
    "                                     max_delay = 3)\n",
    "\n",
    "df = scrape.scrape()"
   ]
  },
  {
   "cell_type": "code",
   "execution_count": null,
   "metadata": {},
   "outputs": [],
   "source": [
    "df.head()"
   ]
  }
 ],
 "metadata": {
  "colab": {
   "authorship_tag": "ABX9TyPrAov+BohdznuMDByzZTOH",
   "collapsed_sections": [
    "ijYlVxlbZ-hU",
    "hv8Q-idM0Wwg",
    "mE4-0Ji_4Cft",
    "bs8c_1PDFFxu"
   ],
   "name": "indeed_scraper_playground.ipynb",
   "provenance": []
  },
  "kernelspec": {
   "display_name": "Python 3",
   "language": "python",
   "name": "python3"
  },
  "language_info": {
   "codemirror_mode": {
    "name": "ipython",
    "version": 3
   },
   "file_extension": ".py",
   "mimetype": "text/x-python",
   "name": "python",
   "nbconvert_exporter": "python",
   "pygments_lexer": "ipython3",
   "version": "3.7.9"
  },
  "widgets": {
   "application/vnd.jupyter.widget-state+json": {
    "0b3ce08acfa140dcaa26fd07b8d6fe56": {
     "model_module": "@jupyter-widgets/controls",
     "model_name": "FloatProgressModel",
     "state": {
      "_dom_classes": [],
      "_model_module": "@jupyter-widgets/controls",
      "_model_module_version": "1.5.0",
      "_model_name": "FloatProgressModel",
      "_view_count": null,
      "_view_module": "@jupyter-widgets/controls",
      "_view_module_version": "1.5.0",
      "_view_name": "ProgressView",
      "bar_style": "success",
      "description": "Scraping in progress...: 100%",
      "description_tooltip": null,
      "layout": "IPY_MODEL_b37e673c85d34661a45c4dece4094a4b",
      "max": 3,
      "min": 0,
      "orientation": "horizontal",
      "style": "IPY_MODEL_be3837a97059446d9701a62ab4fb09fb",
      "value": 3
     }
    },
    "2c5e5192f36648bc95c7daca11dd3ab0": {
     "model_module": "@jupyter-widgets/base",
     "model_name": "LayoutModel",
     "state": {
      "_model_module": "@jupyter-widgets/base",
      "_model_module_version": "1.2.0",
      "_model_name": "LayoutModel",
      "_view_count": null,
      "_view_module": "@jupyter-widgets/base",
      "_view_module_version": "1.2.0",
      "_view_name": "LayoutView",
      "align_content": null,
      "align_items": null,
      "align_self": null,
      "border": null,
      "bottom": null,
      "display": null,
      "flex": null,
      "flex_flow": null,
      "grid_area": null,
      "grid_auto_columns": null,
      "grid_auto_flow": null,
      "grid_auto_rows": null,
      "grid_column": null,
      "grid_gap": null,
      "grid_row": null,
      "grid_template_areas": null,
      "grid_template_columns": null,
      "grid_template_rows": null,
      "height": null,
      "justify_content": null,
      "justify_items": null,
      "left": null,
      "margin": null,
      "max_height": null,
      "max_width": null,
      "min_height": null,
      "min_width": null,
      "object_fit": null,
      "object_position": null,
      "order": null,
      "overflow": null,
      "overflow_x": null,
      "overflow_y": null,
      "padding": null,
      "right": null,
      "top": null,
      "visibility": null,
      "width": null
     }
    },
    "805d48d2d13749e38a9f05ed5448f466": {
     "model_module": "@jupyter-widgets/base",
     "model_name": "LayoutModel",
     "state": {
      "_model_module": "@jupyter-widgets/base",
      "_model_module_version": "1.2.0",
      "_model_name": "LayoutModel",
      "_view_count": null,
      "_view_module": "@jupyter-widgets/base",
      "_view_module_version": "1.2.0",
      "_view_name": "LayoutView",
      "align_content": null,
      "align_items": null,
      "align_self": null,
      "border": null,
      "bottom": null,
      "display": null,
      "flex": null,
      "flex_flow": null,
      "grid_area": null,
      "grid_auto_columns": null,
      "grid_auto_flow": null,
      "grid_auto_rows": null,
      "grid_column": null,
      "grid_gap": null,
      "grid_row": null,
      "grid_template_areas": null,
      "grid_template_columns": null,
      "grid_template_rows": null,
      "height": null,
      "justify_content": null,
      "justify_items": null,
      "left": null,
      "margin": null,
      "max_height": null,
      "max_width": null,
      "min_height": null,
      "min_width": null,
      "object_fit": null,
      "object_position": null,
      "order": null,
      "overflow": null,
      "overflow_x": null,
      "overflow_y": null,
      "padding": null,
      "right": null,
      "top": null,
      "visibility": null,
      "width": null
     }
    },
    "8f52fd46337e4c09b043f4d689fdb75f": {
     "model_module": "@jupyter-widgets/controls",
     "model_name": "HTMLModel",
     "state": {
      "_dom_classes": [],
      "_model_module": "@jupyter-widgets/controls",
      "_model_module_version": "1.5.0",
      "_model_name": "HTMLModel",
      "_view_count": null,
      "_view_module": "@jupyter-widgets/controls",
      "_view_module_version": "1.5.0",
      "_view_name": "HTMLView",
      "description": "",
      "description_tooltip": null,
      "layout": "IPY_MODEL_805d48d2d13749e38a9f05ed5448f466",
      "placeholder": "​",
      "style": "IPY_MODEL_ce174d628b804d1988ee2adb60d1fa71",
      "value": " 3/3 [2:23:02&lt;00:00, 2860.86s/it]"
     }
    },
    "a070156bc1b5406abdb30465da2d68e1": {
     "model_module": "@jupyter-widgets/controls",
     "model_name": "HBoxModel",
     "state": {
      "_dom_classes": [],
      "_model_module": "@jupyter-widgets/controls",
      "_model_module_version": "1.5.0",
      "_model_name": "HBoxModel",
      "_view_count": null,
      "_view_module": "@jupyter-widgets/controls",
      "_view_module_version": "1.5.0",
      "_view_name": "HBoxView",
      "box_style": "",
      "children": [
       "IPY_MODEL_0b3ce08acfa140dcaa26fd07b8d6fe56",
       "IPY_MODEL_8f52fd46337e4c09b043f4d689fdb75f"
      ],
      "layout": "IPY_MODEL_2c5e5192f36648bc95c7daca11dd3ab0"
     }
    },
    "b37e673c85d34661a45c4dece4094a4b": {
     "model_module": "@jupyter-widgets/base",
     "model_name": "LayoutModel",
     "state": {
      "_model_module": "@jupyter-widgets/base",
      "_model_module_version": "1.2.0",
      "_model_name": "LayoutModel",
      "_view_count": null,
      "_view_module": "@jupyter-widgets/base",
      "_view_module_version": "1.2.0",
      "_view_name": "LayoutView",
      "align_content": null,
      "align_items": null,
      "align_self": null,
      "border": null,
      "bottom": null,
      "display": null,
      "flex": null,
      "flex_flow": null,
      "grid_area": null,
      "grid_auto_columns": null,
      "grid_auto_flow": null,
      "grid_auto_rows": null,
      "grid_column": null,
      "grid_gap": null,
      "grid_row": null,
      "grid_template_areas": null,
      "grid_template_columns": null,
      "grid_template_rows": null,
      "height": null,
      "justify_content": null,
      "justify_items": null,
      "left": null,
      "margin": null,
      "max_height": null,
      "max_width": null,
      "min_height": null,
      "min_width": null,
      "object_fit": null,
      "object_position": null,
      "order": null,
      "overflow": null,
      "overflow_x": null,
      "overflow_y": null,
      "padding": null,
      "right": null,
      "top": null,
      "visibility": null,
      "width": null
     }
    },
    "be3837a97059446d9701a62ab4fb09fb": {
     "model_module": "@jupyter-widgets/controls",
     "model_name": "ProgressStyleModel",
     "state": {
      "_model_module": "@jupyter-widgets/controls",
      "_model_module_version": "1.5.0",
      "_model_name": "ProgressStyleModel",
      "_view_count": null,
      "_view_module": "@jupyter-widgets/base",
      "_view_module_version": "1.2.0",
      "_view_name": "StyleView",
      "bar_color": null,
      "description_width": "initial"
     }
    },
    "ce174d628b804d1988ee2adb60d1fa71": {
     "model_module": "@jupyter-widgets/controls",
     "model_name": "DescriptionStyleModel",
     "state": {
      "_model_module": "@jupyter-widgets/controls",
      "_model_module_version": "1.5.0",
      "_model_name": "DescriptionStyleModel",
      "_view_count": null,
      "_view_module": "@jupyter-widgets/base",
      "_view_module_version": "1.2.0",
      "_view_name": "StyleView",
      "description_width": ""
     }
    }
   }
  }
 },
 "nbformat": 4,
 "nbformat_minor": 4
}
