{
 "cells": [
  {
   "cell_type": "markdown",
   "metadata": {
    "id": "m5O7zk_GgEBn"
   },
   "source": [
    "# Scrape Indeed"
   ]
  },
  {
   "cell_type": "markdown",
   "metadata": {},
   "source": [
    "If using colab... "
   ]
  },
  {
   "cell_type": "code",
   "execution_count": 1,
   "metadata": {
    "colab": {
     "base_uri": "https://localhost:8080/"
    },
    "executionInfo": {
     "elapsed": 21548,
     "status": "ok",
     "timestamp": 1612132805244,
     "user": {
      "displayName": "Scott Cohn",
      "photoUrl": "https://lh3.googleusercontent.com/a-/AOh14Gg_9Bi7ggcQeIM-8d9m7lC6Gb5UHiYLddN2ai-2=s64",
      "userId": "09916432820167227700"
     },
     "user_tz": 360
    },
    "id": "0K8osKGegDul",
    "outputId": "f4725dac-09c2-4b2b-8871-3f86773e5a8b"
   },
   "outputs": [
    {
     "name": "stdout",
     "output_type": "stream",
     "text": [
      "Mounted at /content/drive\n"
     ]
    }
   ],
   "source": [
    "#from google.colab import drive\n",
    "#drive.mount('/content/drive')"
   ]
  },
  {
   "cell_type": "code",
   "execution_count": 43,
   "metadata": {
    "executionInfo": {
     "elapsed": 254,
     "status": "ok",
     "timestamp": 1612134752484,
     "user": {
      "displayName": "Scott Cohn",
      "photoUrl": "https://lh3.googleusercontent.com/a-/AOh14Gg_9Bi7ggcQeIM-8d9m7lC6Gb5UHiYLddN2ai-2=s64",
      "userId": "09916432820167227700"
     },
     "user_tz": 360
    },
    "id": "_kWTJpzAf_B-"
   },
   "outputs": [],
   "source": [
    "# libs\n",
    "import pandas as pd\n",
    "from pandas import to_timedelta\n",
    "import sys\n",
    "# sys.path.insert(0,'/content/drive/MyDrive/Indeed_Scraper')\n",
    "import indeed_scraper"
   ]
  },
  {
   "cell_type": "code",
   "execution_count": 6,
   "metadata": {
    "executionInfo": {
     "elapsed": 410,
     "status": "ok",
     "timestamp": 1612133082921,
     "user": {
      "displayName": "Scott Cohn",
      "photoUrl": "https://lh3.googleusercontent.com/a-/AOh14Gg_9Bi7ggcQeIM-8d9m7lC6Gb5UHiYLddN2ai-2=s64",
      "userId": "09916432820167227700"
     },
     "user_tz": 360
    },
    "id": "g-CbKvuZjuvL"
   },
   "outputs": [],
   "source": [
    "# funcs\n",
    "def save_to_csv(jobs_list, filename):\n",
    "    jobs = pd.DataFrame(jobs_list)\n",
    "    jobs.to_csv('/content/drive/MyDrive/Indeed_Scraper/data/' + filename + '.csv')"
   ]
  },
  {
   "cell_type": "code",
   "execution_count": 14,
   "metadata": {
    "colab": {
     "base_uri": "https://localhost:8080/"
    },
    "executionInfo": {
     "elapsed": 11413,
     "status": "ok",
     "timestamp": 1612133657221,
     "user": {
      "displayName": "Scott Cohn",
      "photoUrl": "https://lh3.googleusercontent.com/a-/AOh14Gg_9Bi7ggcQeIM-8d9m7lC6Gb5UHiYLddN2ai-2=s64",
      "userId": "09916432820167227700"
     },
     "user_tz": 360
    },
    "id": "CGfBsVkCgaC4",
    "outputId": "f5796380-bba2-4769-e60d-986eca1b115e"
   },
   "outputs": [
    {
     "name": "stdout",
     "output_type": "stream",
     "text": [
      "Enter a country: US\n",
      "Enter a position: Grocery Clerk\n",
      "Enter a location: Los Angeles\n",
      "How many pages to search? 1\n"
     ]
    }
   ],
   "source": [
    "# begin a scrape\n",
    "country_input = input(\"Enter a country: \")\n",
    "position_input = input(\"Enter a position: \")\n",
    "location_input = input(\"Enter a location: \")\n",
    "num_pages_input = int(input(\"How many pages to search? \"))"
   ]
  },
  {
   "cell_type": "code",
   "execution_count": 44,
   "metadata": {
    "colab": {
     "base_uri": "https://localhost:8080/",
     "height": 236,
     "referenced_widgets": [
      "5ba0717f485844df8630b88310253569",
      "9ec6f4b01d9746a393d8f78747f801e2",
      "5e07aae0c3e94408a01ae3657400fb57",
      "ba2f37bc87d94701a7b9beaaf3869a63",
      "4856f23b32c44201896823f8b110625f",
      "05ad2ed57bb54404b53baba5d0dc9c38",
      "08b9e0ee01a7424e9cb948bf5c4edaa5",
      "c32e564c0e374154a9004de6750858ca"
     ]
    },
    "executionInfo": {
     "elapsed": 11969,
     "status": "ok",
     "timestamp": 1612134766366,
     "user": {
      "displayName": "Scott Cohn",
      "photoUrl": "https://lh3.googleusercontent.com/a-/AOh14Gg_9Bi7ggcQeIM-8d9m7lC6Gb5UHiYLddN2ai-2=s64",
      "userId": "09916432820167227700"
     },
     "user_tz": 360
    },
    "id": "vCv7Um4q9w4F",
    "outputId": "d15e15f4-74f2-4095-fe62-351941fd5b93"
   },
   "outputs": [
    {
     "data": {
      "application/vnd.jupyter.widget-view+json": {
       "model_id": "5ba0717f485844df8630b88310253569",
       "version_major": 2,
       "version_minor": 0
      },
      "text/plain": [
       "HBox(children=(FloatProgress(value=0.0, description='Scraping in progress...', max=1.0, style=ProgressStyle(de…"
      ]
     },
     "metadata": {
      "tags": []
     },
     "output_type": "display_data"
    },
    {
     "name": "stdout",
     "output_type": "stream",
     "text": [
      "Scraping Grocery Clerk (Full Time + Benefits)...\n",
      "Scraping Grocery - Clerk...\n",
      "Scraping Retail Clerk...\n",
      "Scraping Ralphs Retail Clerk (9th & Flower)...\n",
      "Scraping Grocery Clerk...\n",
      "Scraping Grocery Clerk...\n",
      "Scraping Food 4 Less Retail Clerk (Olympic & Hoover)...\n",
      "Scraping Ralphs Retail Clerk (Wiltern)...\n",
      "Scraping COMMISSARY SUPPORT CLERK...\n",
      "Scraping Grocery Clerk...\n",
      "\n"
     ]
    }
   ],
   "source": [
    "# run scraper\n",
    "scraper = indeed_scraper.JobsScraper(country=country_input, \n",
    "                                     position=position_input, \n",
    "                                     location=location_input, \n",
    "                                     pages=num_pages_input,\n",
    "                                     max_delay = 3)\n",
    "\n",
    "df = scraper.scrape()"
   ]
  },
  {
   "cell_type": "code",
   "execution_count": 45,
   "metadata": {
    "colab": {
     "base_uri": "https://localhost:8080/",
     "height": 391
    },
    "executionInfo": {
     "elapsed": 421,
     "status": "ok",
     "timestamp": 1612134808461,
     "user": {
      "displayName": "Scott Cohn",
      "photoUrl": "https://lh3.googleusercontent.com/a-/AOh14Gg_9Bi7ggcQeIM-8d9m7lC6Gb5UHiYLddN2ai-2=s64",
      "userId": "09916432820167227700"
     },
     "user_tz": 360
    },
    "id": "3B7zENp9lwb9",
    "outputId": "7699feab-d4ab-43d3-ae63-3a7615b9f62e"
   },
   "outputs": [
    {
     "data": {
      "text/html": [
       "<div>\n",
       "<style scoped>\n",
       "    .dataframe tbody tr th:only-of-type {\n",
       "        vertical-align: middle;\n",
       "    }\n",
       "\n",
       "    .dataframe tbody tr th {\n",
       "        vertical-align: top;\n",
       "    }\n",
       "\n",
       "    .dataframe thead th {\n",
       "        text-align: right;\n",
       "    }\n",
       "</style>\n",
       "<table border=\"1\" class=\"dataframe\">\n",
       "  <thead>\n",
       "    <tr style=\"text-align: right;\">\n",
       "      <th></th>\n",
       "      <th>title</th>\n",
       "      <th>location</th>\n",
       "      <th>company</th>\n",
       "      <th>summary</th>\n",
       "      <th>salary</th>\n",
       "      <th>date_posted</th>\n",
       "      <th>url</th>\n",
       "    </tr>\n",
       "  </thead>\n",
       "  <tbody>\n",
       "    <tr>\n",
       "      <th>0</th>\n",
       "      <td>Grocery Clerk (Full Time + Benefits)</td>\n",
       "      <td>Los Angeles, CA</td>\n",
       "      <td>Erewhon Silverlake</td>\n",
       "      <td>Previous grocery clerk or stocking experience ...</td>\n",
       "      <td>$15 - $18 an hour</td>\n",
       "      <td>2021-01-01 23:09:12.112447</td>\n",
       "      <td>https://indeed.com/rc/clk?jk=c16fa3c0c0c5bf89&amp;...</td>\n",
       "    </tr>\n",
       "    <tr>\n",
       "      <th>1</th>\n",
       "      <td>Grocery - Clerk</td>\n",
       "      <td>Los Angeles, CA</td>\n",
       "      <td>Bristol Farms and Lazy Acres Natural Market</td>\n",
       "      <td>Stocks shelves, dairy case and other areas of ...</td>\n",
       "      <td>None</td>\n",
       "      <td>2021-01-13 23:09:14.116851</td>\n",
       "      <td>https://indeed.com/rc/clk?jk=c8545fc5aae35dad&amp;...</td>\n",
       "    </tr>\n",
       "    <tr>\n",
       "      <th>2</th>\n",
       "      <td>Retail Clerk</td>\n",
       "      <td>Culver City, CA 90230 (Fox Hills area)</td>\n",
       "      <td>Sprouts Farmers Market</td>\n",
       "      <td>Work in several different areas throughout the...</td>\n",
       "      <td>None</td>\n",
       "      <td>2021-01-27 23:09:17.122667</td>\n",
       "      <td>https://indeed.com/rc/clk?jk=b86b51dc6e6e9b9e&amp;...</td>\n",
       "    </tr>\n",
       "    <tr>\n",
       "      <th>3</th>\n",
       "      <td>Ralphs Retail Clerk (9th &amp; Flower)</td>\n",
       "      <td>Los Angeles, CA 90015 (Downtown area)</td>\n",
       "      <td>Ralphs</td>\n",
       "      <td>Assist customers at checkout and bag groceries...</td>\n",
       "      <td>None</td>\n",
       "      <td>2021-01-06 23:09:18.126301</td>\n",
       "      <td>https://indeed.com/rc/clk?jk=0f972951eff3bae3&amp;...</td>\n",
       "    </tr>\n",
       "    <tr>\n",
       "      <th>4</th>\n",
       "      <td>Grocery Clerk</td>\n",
       "      <td>Arcadia, CA 91006</td>\n",
       "      <td>Grocery Outlet Arcadia Live Oak</td>\n",
       "      <td>Job Types: Full-time, Part-time.All employees ...</td>\n",
       "      <td>$15 - $18 an hour</td>\n",
       "      <td>2021-01-07 23:09:20.130518</td>\n",
       "      <td>https://indeed.com/company/Grocery-Outlet-Arca...</td>\n",
       "    </tr>\n",
       "  </tbody>\n",
       "</table>\n",
       "</div>"
      ],
      "text/plain": [
       "                                  title  ...                                                url\n",
       "0  Grocery Clerk (Full Time + Benefits)  ...  https://indeed.com/rc/clk?jk=c16fa3c0c0c5bf89&...\n",
       "1                       Grocery - Clerk  ...  https://indeed.com/rc/clk?jk=c8545fc5aae35dad&...\n",
       "2                          Retail Clerk  ...  https://indeed.com/rc/clk?jk=b86b51dc6e6e9b9e&...\n",
       "3    Ralphs Retail Clerk (9th & Flower)  ...  https://indeed.com/rc/clk?jk=0f972951eff3bae3&...\n",
       "4                         Grocery Clerk  ...  https://indeed.com/company/Grocery-Outlet-Arca...\n",
       "\n",
       "[5 rows x 7 columns]"
      ]
     },
     "execution_count": 45,
     "metadata": {
      "tags": []
     },
     "output_type": "execute_result"
    }
   ],
   "source": [
    "# adjust date \n",
    "df['date_posted'] = to_timedelta(df['date_posted'],  unit = \"D\")\n",
    "\n",
    "df['date_posted'] = df['date_scraped'] - df['date_posted']\n",
    "\n",
    "df = df.drop(['date_scraped'], axis=1)\n",
    "\n",
    "df.head()"
   ]
  },
  {
   "cell_type": "code",
   "execution_count": 46,
   "metadata": {
    "colab": {
     "base_uri": "https://localhost:8080/",
     "height": 391
    },
    "executionInfo": {
     "elapsed": 464,
     "status": "ok",
     "timestamp": 1612135188523,
     "user": {
      "displayName": "Scott Cohn",
      "photoUrl": "https://lh3.googleusercontent.com/a-/AOh14Gg_9Bi7ggcQeIM-8d9m7lC6Gb5UHiYLddN2ai-2=s64",
      "userId": "09916432820167227700"
     },
     "user_tz": 360
    },
    "id": "DjCFT-BZvrnT",
    "outputId": "dd6cc9d2-bf2c-4432-81aa-be17aa5eab4e"
   },
   "outputs": [
    {
     "data": {
      "text/html": [
       "<div>\n",
       "<style scoped>\n",
       "    .dataframe tbody tr th:only-of-type {\n",
       "        vertical-align: middle;\n",
       "    }\n",
       "\n",
       "    .dataframe tbody tr th {\n",
       "        vertical-align: top;\n",
       "    }\n",
       "\n",
       "    .dataframe thead th {\n",
       "        text-align: right;\n",
       "    }\n",
       "</style>\n",
       "<table border=\"1\" class=\"dataframe\">\n",
       "  <thead>\n",
       "    <tr style=\"text-align: right;\">\n",
       "      <th></th>\n",
       "      <th>title</th>\n",
       "      <th>location</th>\n",
       "      <th>company</th>\n",
       "      <th>summary</th>\n",
       "      <th>salary</th>\n",
       "      <th>date_posted</th>\n",
       "      <th>url</th>\n",
       "    </tr>\n",
       "  </thead>\n",
       "  <tbody>\n",
       "    <tr>\n",
       "      <th>5</th>\n",
       "      <td>Grocery Clerk</td>\n",
       "      <td>Glendale, CA 91201</td>\n",
       "      <td>Super King Market</td>\n",
       "      <td>This role will be responsible for unloading an...</td>\n",
       "      <td>$14 - $16 an hour</td>\n",
       "      <td>2021-01-11 23:09:20.132280</td>\n",
       "      <td>https://indeed.com/rc/clk?jk=322949d6c1c2d0c8&amp;...</td>\n",
       "    </tr>\n",
       "    <tr>\n",
       "      <th>6</th>\n",
       "      <td>Food 4 Less Retail Clerk (Olympic &amp; Hoover)</td>\n",
       "      <td>Los Angeles, CA 90006 (Harvard Heights area)</td>\n",
       "      <td>Food 4 Less</td>\n",
       "      <td>Assist customers at checkout and bag groceries...</td>\n",
       "      <td>None</td>\n",
       "      <td>2021-01-01 23:09:20.135294</td>\n",
       "      <td>https://indeed.com/rc/clk?jk=8800dac325a156d5&amp;...</td>\n",
       "    </tr>\n",
       "    <tr>\n",
       "      <th>7</th>\n",
       "      <td>Ralphs Retail Clerk (Wiltern)</td>\n",
       "      <td>Los Angeles, CA 90005 (Koreatown area)</td>\n",
       "      <td>Ralphs</td>\n",
       "      <td>Assist customers at checkout and bag groceries...</td>\n",
       "      <td>None</td>\n",
       "      <td>2021-01-06 23:09:21.138598</td>\n",
       "      <td>https://indeed.com/rc/clk?jk=105511ff589c7d88&amp;...</td>\n",
       "    </tr>\n",
       "    <tr>\n",
       "      <th>8</th>\n",
       "      <td>COMMISSARY SUPPORT CLERK</td>\n",
       "      <td>El Segundo, CA</td>\n",
       "      <td>US Department of Defense</td>\n",
       "      <td>Performs basic account maintenance procedures ...</td>\n",
       "      <td>$17.25 - $22.42 an hour</td>\n",
       "      <td>2021-01-21 23:09:23.142593</td>\n",
       "      <td>https://indeed.com/rc/clk?jk=a65ad464769ad62f&amp;...</td>\n",
       "    </tr>\n",
       "    <tr>\n",
       "      <th>9</th>\n",
       "      <td>Grocery Clerk</td>\n",
       "      <td>Hermosa Beach, CA 90254</td>\n",
       "      <td>Lazy Acres Natural Market</td>\n",
       "      <td>Stocks shelves, dairy case and other areas of ...</td>\n",
       "      <td>From $15 an hour</td>\n",
       "      <td>2021-01-26 23:09:23.144890</td>\n",
       "      <td>https://indeed.com/company/Lazy-Acres-Natural-...</td>\n",
       "    </tr>\n",
       "  </tbody>\n",
       "</table>\n",
       "</div>"
      ],
      "text/plain": [
       "                                         title  ...                                                url\n",
       "5                                Grocery Clerk  ...  https://indeed.com/rc/clk?jk=322949d6c1c2d0c8&...\n",
       "6  Food 4 Less Retail Clerk (Olympic & Hoover)  ...  https://indeed.com/rc/clk?jk=8800dac325a156d5&...\n",
       "7                Ralphs Retail Clerk (Wiltern)  ...  https://indeed.com/rc/clk?jk=105511ff589c7d88&...\n",
       "8                     COMMISSARY SUPPORT CLERK  ...  https://indeed.com/rc/clk?jk=a65ad464769ad62f&...\n",
       "9                                Grocery Clerk  ...  https://indeed.com/company/Lazy-Acres-Natural-...\n",
       "\n",
       "[5 rows x 7 columns]"
      ]
     },
     "execution_count": 46,
     "metadata": {
      "tags": []
     },
     "output_type": "execute_result"
    }
   ],
   "source": [
    "df.tail()"
   ]
  },
  {
   "cell_type": "code",
   "execution_count": null,
   "metadata": {
    "id": "LlI-FZ5_lsKV"
   },
   "outputs": [],
   "source": [
    "# prep file save\n",
    "position = position_input.replace(\" \", \"_\")\n",
    "location = location_input.replace(\" \", \"_\")\n",
    "filename = position + \"_\" + location\n",
    "\n",
    "# save file\n",
    "save_to_csv(jobs_list=df, filename=filename)"
   ]
  }
 ],
 "metadata": {
  "colab": {
   "authorship_tag": "ABX9TyOc96yBPL4ZUgb93roTCYU1",
   "collapsed_sections": [],
   "name": "data_collect.ipynb",
   "provenance": []
  },
  "kernelspec": {
   "display_name": "Python 3",
   "language": "python",
   "name": "python3"
  },
  "language_info": {
   "codemirror_mode": {
    "name": "ipython",
    "version": 3
   },
   "file_extension": ".py",
   "mimetype": "text/x-python",
   "name": "python",
   "nbconvert_exporter": "python",
   "pygments_lexer": "ipython3",
   "version": "3.7.9"
  },
  "widgets": {
   "application/vnd.jupyter.widget-state+json": {
    "05ad2ed57bb54404b53baba5d0dc9c38": {
     "model_module": "@jupyter-widgets/base",
     "model_name": "LayoutModel",
     "state": {
      "_model_module": "@jupyter-widgets/base",
      "_model_module_version": "1.2.0",
      "_model_name": "LayoutModel",
      "_view_count": null,
      "_view_module": "@jupyter-widgets/base",
      "_view_module_version": "1.2.0",
      "_view_name": "LayoutView",
      "align_content": null,
      "align_items": null,
      "align_self": null,
      "border": null,
      "bottom": null,
      "display": null,
      "flex": null,
      "flex_flow": null,
      "grid_area": null,
      "grid_auto_columns": null,
      "grid_auto_flow": null,
      "grid_auto_rows": null,
      "grid_column": null,
      "grid_gap": null,
      "grid_row": null,
      "grid_template_areas": null,
      "grid_template_columns": null,
      "grid_template_rows": null,
      "height": null,
      "justify_content": null,
      "justify_items": null,
      "left": null,
      "margin": null,
      "max_height": null,
      "max_width": null,
      "min_height": null,
      "min_width": null,
      "object_fit": null,
      "object_position": null,
      "order": null,
      "overflow": null,
      "overflow_x": null,
      "overflow_y": null,
      "padding": null,
      "right": null,
      "top": null,
      "visibility": null,
      "width": null
     }
    },
    "08b9e0ee01a7424e9cb948bf5c4edaa5": {
     "model_module": "@jupyter-widgets/controls",
     "model_name": "DescriptionStyleModel",
     "state": {
      "_model_module": "@jupyter-widgets/controls",
      "_model_module_version": "1.5.0",
      "_model_name": "DescriptionStyleModel",
      "_view_count": null,
      "_view_module": "@jupyter-widgets/base",
      "_view_module_version": "1.2.0",
      "_view_name": "StyleView",
      "description_width": ""
     }
    },
    "4856f23b32c44201896823f8b110625f": {
     "model_module": "@jupyter-widgets/controls",
     "model_name": "ProgressStyleModel",
     "state": {
      "_model_module": "@jupyter-widgets/controls",
      "_model_module_version": "1.5.0",
      "_model_name": "ProgressStyleModel",
      "_view_count": null,
      "_view_module": "@jupyter-widgets/base",
      "_view_module_version": "1.2.0",
      "_view_name": "StyleView",
      "bar_color": null,
      "description_width": "initial"
     }
    },
    "5ba0717f485844df8630b88310253569": {
     "model_module": "@jupyter-widgets/controls",
     "model_name": "HBoxModel",
     "state": {
      "_dom_classes": [],
      "_model_module": "@jupyter-widgets/controls",
      "_model_module_version": "1.5.0",
      "_model_name": "HBoxModel",
      "_view_count": null,
      "_view_module": "@jupyter-widgets/controls",
      "_view_module_version": "1.5.0",
      "_view_name": "HBoxView",
      "box_style": "",
      "children": [
       "IPY_MODEL_5e07aae0c3e94408a01ae3657400fb57",
       "IPY_MODEL_ba2f37bc87d94701a7b9beaaf3869a63"
      ],
      "layout": "IPY_MODEL_9ec6f4b01d9746a393d8f78747f801e2"
     }
    },
    "5e07aae0c3e94408a01ae3657400fb57": {
     "model_module": "@jupyter-widgets/controls",
     "model_name": "FloatProgressModel",
     "state": {
      "_dom_classes": [],
      "_model_module": "@jupyter-widgets/controls",
      "_model_module_version": "1.5.0",
      "_model_name": "FloatProgressModel",
      "_view_count": null,
      "_view_module": "@jupyter-widgets/controls",
      "_view_module_version": "1.5.0",
      "_view_name": "ProgressView",
      "bar_style": "success",
      "description": "Scraping in progress...: 100%",
      "description_tooltip": null,
      "layout": "IPY_MODEL_05ad2ed57bb54404b53baba5d0dc9c38",
      "max": 1,
      "min": 0,
      "orientation": "horizontal",
      "style": "IPY_MODEL_4856f23b32c44201896823f8b110625f",
      "value": 1
     }
    },
    "9ec6f4b01d9746a393d8f78747f801e2": {
     "model_module": "@jupyter-widgets/base",
     "model_name": "LayoutModel",
     "state": {
      "_model_module": "@jupyter-widgets/base",
      "_model_module_version": "1.2.0",
      "_model_name": "LayoutModel",
      "_view_count": null,
      "_view_module": "@jupyter-widgets/base",
      "_view_module_version": "1.2.0",
      "_view_name": "LayoutView",
      "align_content": null,
      "align_items": null,
      "align_self": null,
      "border": null,
      "bottom": null,
      "display": null,
      "flex": null,
      "flex_flow": null,
      "grid_area": null,
      "grid_auto_columns": null,
      "grid_auto_flow": null,
      "grid_auto_rows": null,
      "grid_column": null,
      "grid_gap": null,
      "grid_row": null,
      "grid_template_areas": null,
      "grid_template_columns": null,
      "grid_template_rows": null,
      "height": null,
      "justify_content": null,
      "justify_items": null,
      "left": null,
      "margin": null,
      "max_height": null,
      "max_width": null,
      "min_height": null,
      "min_width": null,
      "object_fit": null,
      "object_position": null,
      "order": null,
      "overflow": null,
      "overflow_x": null,
      "overflow_y": null,
      "padding": null,
      "right": null,
      "top": null,
      "visibility": null,
      "width": null
     }
    },
    "ba2f37bc87d94701a7b9beaaf3869a63": {
     "model_module": "@jupyter-widgets/controls",
     "model_name": "HTMLModel",
     "state": {
      "_dom_classes": [],
      "_model_module": "@jupyter-widgets/controls",
      "_model_module_version": "1.5.0",
      "_model_name": "HTMLModel",
      "_view_count": null,
      "_view_module": "@jupyter-widgets/controls",
      "_view_module_version": "1.5.0",
      "_view_name": "HTMLView",
      "description": "",
      "description_tooltip": null,
      "layout": "IPY_MODEL_c32e564c0e374154a9004de6750858ca",
      "placeholder": "​",
      "style": "IPY_MODEL_08b9e0ee01a7424e9cb948bf5c4edaa5",
      "value": " 1/1 [00:11&lt;00:00, 11.63s/it]"
     }
    },
    "c32e564c0e374154a9004de6750858ca": {
     "model_module": "@jupyter-widgets/base",
     "model_name": "LayoutModel",
     "state": {
      "_model_module": "@jupyter-widgets/base",
      "_model_module_version": "1.2.0",
      "_model_name": "LayoutModel",
      "_view_count": null,
      "_view_module": "@jupyter-widgets/base",
      "_view_module_version": "1.2.0",
      "_view_name": "LayoutView",
      "align_content": null,
      "align_items": null,
      "align_self": null,
      "border": null,
      "bottom": null,
      "display": null,
      "flex": null,
      "flex_flow": null,
      "grid_area": null,
      "grid_auto_columns": null,
      "grid_auto_flow": null,
      "grid_auto_rows": null,
      "grid_column": null,
      "grid_gap": null,
      "grid_row": null,
      "grid_template_areas": null,
      "grid_template_columns": null,
      "grid_template_rows": null,
      "height": null,
      "justify_content": null,
      "justify_items": null,
      "left": null,
      "margin": null,
      "max_height": null,
      "max_width": null,
      "min_height": null,
      "min_width": null,
      "object_fit": null,
      "object_position": null,
      "order": null,
      "overflow": null,
      "overflow_x": null,
      "overflow_y": null,
      "padding": null,
      "right": null,
      "top": null,
      "visibility": null,
      "width": null
     }
    }
   }
  }
 },
 "nbformat": 4,
 "nbformat_minor": 4
}
